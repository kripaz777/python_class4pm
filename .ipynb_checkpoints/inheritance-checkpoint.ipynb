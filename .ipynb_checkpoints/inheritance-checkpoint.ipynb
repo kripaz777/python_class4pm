{
 "cells": [
  {
   "cell_type": "code",
   "execution_count": 1,
   "metadata": {},
   "outputs": [],
   "source": [
    "class A:\n",
    "    pass\n",
    "\n",
    "class B(A):\n",
    "    pass\n",
    "\n",
    "obj = B()"
   ]
  },
  {
   "cell_type": "code",
   "execution_count": 4,
   "metadata": {},
   "outputs": [
    {
     "name": "stdout",
     "output_type": "stream",
     "text": [
      "Enter name = Ram\n",
      "Enter address = Kathmandu\n",
      "Hello World I am Ram. I am from Kathmandu\n",
      "Ram\n",
      "Kathmandu\n"
     ]
    }
   ],
   "source": [
    "class Info:                                          #parent class\n",
    "    def __init__(self):\n",
    "        self.name = input(\"Enter name = \")\n",
    "        self.add = input(\"Enter address = \")\n",
    "        \n",
    "class Data(Info):                                     #child class\n",
    "    def data(self):\n",
    "        print(f\"Hello World I am {self.name}. I am from {self.add}\")\n",
    "        \n",
    "\n",
    "obj = Data()\n",
    "obj.data()\n",
    "print(obj.name)\n",
    "print(obj.add)"
   ]
  },
  {
   "cell_type": "code",
   "execution_count": null,
   "metadata": {},
   "outputs": [],
   "source": [
    "class Info:                                          #parent class\n",
    "    def __init__(self,name,add):\n",
    "        self.name = name\n",
    "        self.add = add\n",
    "        \n",
    "class Data(Info):                                     #child class\n",
    "    def data(self):\n",
    "        print(f\"Hello World I am {self.name}. I am from {self.add}\")\n",
    "        \n",
    "\n",
    "name = input(\"Enter name = \")\n",
    "add = input(\"Enter address = \")\n",
    "\n",
    "obj = Data(name,add)\n",
    "obj.data()\n",
    "print(obj.name)\n",
    "print(obj.add)"
   ]
  },
  {
   "cell_type": "code",
   "execution_count": 7,
   "metadata": {},
   "outputs": [
    {
     "name": "stdout",
     "output_type": "stream",
     "text": [
      "Enter name = Ram\n",
      "Enter address = Kathmandu\n",
      "Enter phone = 9878778765\n",
      "Hello World I am Ram. I am from Kathmandu. My phone no is 9878778765\n",
      "Hello I am from Kathmandu My contact no is 9878778765\n",
      "Ram\n",
      "Kathmandu\n"
     ]
    }
   ],
   "source": [
    "class Info:                                          #parent class\n",
    "    def __init__(self,add,phone):\n",
    "        self.add = add\n",
    "        self.phone = phone\n",
    "    def info(self):\n",
    "        print(f\"Hello I am from {self.add} My contact no is {self.phone}\")\n",
    "        \n",
    "class Data(Info):                                     #child class\n",
    "    def __init__(self,name,add,phone):\n",
    "        self.name = name\n",
    "        Info.__init__(self,add,phone)\n",
    "        \n",
    "    def data(self):\n",
    "        print(f\"Hello World I am {self.name}. I am from {self.add}. My phone no is {self.phone}\")\n",
    "        \n",
    "\n",
    "name = input(\"Enter name = \")\n",
    "add = input(\"Enter address = \")\n",
    "phone = int(input(\"Enter phone = \"))\n",
    "\n",
    "obj = Data(name,add,phone)\n",
    "obj.data()\n",
    "obj.info()\n",
    "print(obj.name)\n",
    "print(obj.add)"
   ]
  },
  {
   "cell_type": "code",
   "execution_count": null,
   "metadata": {},
   "outputs": [],
   "source": []
  },
  {
   "cell_type": "code",
   "execution_count": 8,
   "metadata": {},
   "outputs": [
    {
     "name": "stdout",
     "output_type": "stream",
     "text": [
      "Enter name = Ram\n",
      "Enter address = Kathmandu\n",
      "Enter phone = 9808667654\n",
      "Hello World I am Ram. I am from Kathmandu. My phone no is 9808667654\n",
      "Hello I am from Kathmandu My contact no is 9808667654\n",
      "Hello I am from Kathmandu My contact no is 9808778765\n"
     ]
    }
   ],
   "source": [
    "class Info:                                          #parent class\n",
    "    def __init__(self,add,phone):\n",
    "        self.add = add\n",
    "        self.phone = phone\n",
    "    def info(self):\n",
    "        print(f\"Hello I am from {self.add} My contact no is {self.phone}\")\n",
    "        \n",
    "class Data(Info):                                     #child class\n",
    "    def __init__(self,name,add,phone):\n",
    "        self.name = name\n",
    "        Info.__init__(self,add,phone)\n",
    "        \n",
    "    def data(self):\n",
    "        print(f\"Hello World I am {self.name}. I am from {self.add}. My phone no is {self.phone}\")\n",
    "        \n",
    "\n",
    "name = input(\"Enter name = \")\n",
    "add = input(\"Enter address = \")\n",
    "phone = int(input(\"Enter phone = \"))\n",
    "\n",
    "obj = Data(name,add,phone)\n",
    "obj.data()\n",
    "obj.info()\n",
    "obj1 = Info(\"Kathmandu\",9808778765)\n",
    "obj1.info()"
   ]
  },
  {
   "cell_type": "code",
   "execution_count": null,
   "metadata": {},
   "outputs": [],
   "source": [
    "class Contact:\n",
    "    def __init__(self,phone):\n",
    "        self.phone = phone\n",
    "        \n",
    "class Info(Contact):                                          #parent class\n",
    "    def __init__(self,add,phone):\n",
    "        self.add = add\n",
    "        Contact.__init__(self,phone)\n",
    "\n",
    "    def info(self):\n",
    "        print(f\"Hello I am from {self.add} My contact no is {self.phone}\")\n",
    "        \n",
    "class Data(Info):                                     #child class\n",
    "    def __init__(self,name,add,phone):\n",
    "        self.name = name\n",
    "        Info.__init__(self,add,phone)\n",
    "        \n",
    "    def data(self):\n",
    "        print(f\"Hello World I am {self.name}. I am from {self.add}. My phone no is {self.phone}\")\n",
    "        \n",
    "name = input(\"Enter name = \")\n",
    "add = input(\"Enter address = \")\n",
    "phone = int(input(\"Enter phone = \"))\n",
    "\n",
    "obj = Data(name,add,phone)\n",
    "obj.data()\n",
    "obj.info()"
   ]
  },
  {
   "cell_type": "code",
   "execution_count": 1,
   "metadata": {},
   "outputs": [
    {
     "name": "stdout",
     "output_type": "stream",
     "text": [
      "Enter name = Ram\n",
      "Enter address = Kathmandu\n",
      "Enter phone = 9808778765\n",
      "Hello World I am Ram. I am from Kathmandu. My phone no is 9808778765\n",
      "Hello I am from Kathmandu\n"
     ]
    }
   ],
   "source": [
    "class Contact:\n",
    "    def __init__(self,phone):\n",
    "        self.phone = phone\n",
    "        \n",
    "class Info:                                          #parent class\n",
    "    def __init__(self,add):\n",
    "        self.add = add\n",
    "\n",
    "    def info(self):\n",
    "        print(f\"Hello I am from {self.add}\")\n",
    "        \n",
    "class Data(Info,Contact):                                     #child class\n",
    "    def __init__(self,name,add,phone):\n",
    "        self.name = name\n",
    "        Info.__init__(self,add)\n",
    "        Contact.__init__(self,phone)\n",
    "\n",
    "        \n",
    "    def data(self):\n",
    "        print(f\"Hello World I am {self.name}. I am from {self.add}. My phone no is {self.phone}\")\n",
    "        \n",
    "name = input(\"Enter name = \")\n",
    "add = input(\"Enter address = \")\n",
    "phone = int(input(\"Enter phone = \"))\n",
    "\n",
    "obj = Data(name,add,phone)\n",
    "obj.data()\n",
    "obj.info()"
   ]
  },
  {
   "cell_type": "code",
   "execution_count": null,
   "metadata": {},
   "outputs": [],
   "source": [
    "1. Kshitz Regmi----good, basic teaching quality, average confidence 2+ years of experience 1pm attitude.\n",
    "\n",
    "2. Ashish Maharjan------average, no teaching quality,low confidence 2 + years of experience 9:30am low attitude.\n",
    "\n",
    "3. 2+ years experience, worked as data scientist, Bachelor good attitude high attitude, workshop organizer."
   ]
  }
 ],
 "metadata": {
  "kernelspec": {
   "display_name": "Python 3 (ipykernel)",
   "language": "python",
   "name": "python3"
  },
  "language_info": {
   "codemirror_mode": {
    "name": "ipython",
    "version": 3
   },
   "file_extension": ".py",
   "mimetype": "text/x-python",
   "name": "python",
   "nbconvert_exporter": "python",
   "pygments_lexer": "ipython3",
   "version": "3.7.1"
  }
 },
 "nbformat": 4,
 "nbformat_minor": 2
}
