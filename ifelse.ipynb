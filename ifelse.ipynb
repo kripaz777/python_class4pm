{
 "cells": [
  {
   "cell_type": "code",
   "execution_count": 1,
   "metadata": {},
   "outputs": [],
   "source": [
    "# if <condition>:\n",
    "#     <operation>\n",
    "    \n",
    "# elif <condition>:\n",
    "#     <operation>\n",
    "    \n",
    "# else:\n",
    "#     <operation>\n"
   ]
  },
  {
   "cell_type": "code",
   "execution_count": 4,
   "metadata": {},
   "outputs": [
    {
     "name": "stdout",
     "output_type": "stream",
     "text": [
      "False\n",
      "True\n"
     ]
    }
   ],
   "source": [
    "# < > <= >= == !=\n",
    "a = 10\n",
    "b = 20\n",
    "print(a>b)\n",
    "print(b>a)"
   ]
  },
  {
   "cell_type": "code",
   "execution_count": 6,
   "metadata": {},
   "outputs": [
    {
     "data": {
      "text/plain": [
       "True"
      ]
     },
     "execution_count": 6,
     "metadata": {},
     "output_type": "execute_result"
    }
   ],
   "source": [
    "10%2 == 0"
   ]
  },
  {
   "cell_type": "code",
   "execution_count": 7,
   "metadata": {},
   "outputs": [
    {
     "name": "stdout",
     "output_type": "stream",
     "text": [
      "Enter a = 10\n",
      "a is even\n"
     ]
    }
   ],
   "source": [
    "a = int(input(\"Enter a = \"))\n",
    "if a%2 == 0:\n",
    "    print(\"a is even\")\n",
    "    \n",
    "else:\n",
    "    print(\"a is odd\")"
   ]
  },
  {
   "cell_type": "code",
   "execution_count": 11,
   "metadata": {},
   "outputs": [
    {
     "name": "stdout",
     "output_type": "stream",
     "text": [
      "Enter a = 10\n",
      "Enter b = 10\n",
      "Both are equal\n"
     ]
    }
   ],
   "source": [
    "a = int(input(\"Enter a = \"))\n",
    "b = int(input(\"Enter b = \"))\n",
    "if a>b:\n",
    "    print(\"a is greater\")\n",
    "elif b>a:\n",
    "    print(\"b is greater\")\n",
    "else:\n",
    "    print(\"Both are equal\")"
   ]
  },
  {
   "cell_type": "code",
   "execution_count": 13,
   "metadata": {},
   "outputs": [
    {
     "name": "stdout",
     "output_type": "stream",
     "text": [
      "Enter marks= 89\n",
      "Enter marks87\n",
      "Enter marks = 90\n",
      "Enter marks = 78\n",
      "Enter marks = 90\n",
      "434 86.8 A grade \n"
     ]
    }
   ],
   "source": [
    "physics = int(input(\"Enter marks= \"))\n",
    "chemistry = int(input(\"Enter marks\"))\n",
    "math = int(input(\"Enter marks = \"))\n",
    "english = int(input(\"Enter marks = \"))\n",
    "nepali = int(input(\"Enter marks = \"))\n",
    "\n",
    "total = physics+chemistry+math+english +nepali\n",
    "per = total/5\n",
    "\n",
    "if per >=80:\n",
    "    print(total,per,\"A grade \")\n",
    "elif per >=60:\n",
    "    print(total,per,\"B grade \")\n",
    "elif per >= 45:\n",
    "    print(total,per,\"C grade \")\n",
    "else:\n",
    "    print(total,per,\"F grade\")"
   ]
  },
  {
   "cell_type": "code",
   "execution_count": 14,
   "metadata": {},
   "outputs": [
    {
     "name": "stdout",
     "output_type": "stream",
     "text": [
      "Enter a = 10\n",
      "Enter b = 3\n",
      "Enter + - * /  /\n",
      "3.3333333333333335\n"
     ]
    }
   ],
   "source": [
    "a = int(input(\"Enter a = \"))\n",
    "b = int(input(\"Enter b = \"))\n",
    "o = input(\"Enter + - * /  \")\n",
    "if o == \"+\":\n",
    "    print(a+b)\n",
    "elif o == \"-\":\n",
    "    print(a-b)\n",
    "elif o == \"*\":\n",
    "    print(a*b)\n",
    "elif o == \"/\":\n",
    "    print(a/b)\n",
    "else:\n",
    "    print(\"Invalid operator\")"
   ]
  },
  {
   "cell_type": "code",
   "execution_count": 15,
   "metadata": {},
   "outputs": [],
   "source": [
    "# and &\n",
    "# or |"
   ]
  },
  {
   "cell_type": "code",
   "execution_count": 17,
   "metadata": {},
   "outputs": [
    {
     "name": "stdout",
     "output_type": "stream",
     "text": [
      "False\n"
     ]
    }
   ],
   "source": [
    "print(True and False)"
   ]
  },
  {
   "cell_type": "code",
   "execution_count": 18,
   "metadata": {},
   "outputs": [
    {
     "name": "stdout",
     "output_type": "stream",
     "text": [
      "True\n"
     ]
    }
   ],
   "source": [
    "print(True or False)"
   ]
  },
  {
   "cell_type": "code",
   "execution_count": 20,
   "metadata": {},
   "outputs": [
    {
     "name": "stdout",
     "output_type": "stream",
     "text": [
      "Enter a = 10\n",
      "Enter b = 0\n",
      "Enter + - * /  /\n",
      "The value of b can not be zero\n"
     ]
    }
   ],
   "source": [
    "a = int(input(\"Enter a = \"))\n",
    "b = int(input(\"Enter b = \"))\n",
    "o = input(\"Enter + - * /  \")\n",
    "if o == \"+\":\n",
    "    print(a+b)\n",
    "elif o == \"-\":\n",
    "    print(a-b)\n",
    "elif o == \"*\":\n",
    "    print(a*b)\n",
    "elif o == \"/\" and b!=0:\n",
    "    print(a/b)\n",
    "elif o == \"/\" and b==0:\n",
    "    print(\"The value of b can not be zero\")\n",
    "else:\n",
    "    print(\"Invalid operator\")"
   ]
  },
  {
   "cell_type": "code",
   "execution_count": null,
   "metadata": {},
   "outputs": [],
   "source": [
    "if <condition>:\n",
    "    \n",
    "    if <condition>:\n",
    "        <operations>\n",
    "    else:\n",
    "        <operations>"
   ]
  },
  {
   "cell_type": "code",
   "execution_count": null,
   "metadata": {},
   "outputs": [],
   "source": [
    "a = int(input(\"Enter a = \"))\n",
    "b = int(input(\"Enter b = \"))\n",
    "o = input(\"Enter + - * /  \")\n",
    "if o == \"+\":\n",
    "    print(a+b)\n",
    "elif o == \"-\":\n",
    "    print(a-b)\n",
    "elif o == \"*\":\n",
    "    print(a*b)\n",
    "elif o == \"/\":\n",
    "    if b!=0:\n",
    "        print(a/b)\n",
    "    else:\n",
    "        print(\"The value of b can not be zero\")\n",
    "\n",
    "else:\n",
    "    print(\"Invalid operator\")"
   ]
  }
 ],
 "metadata": {
  "kernelspec": {
   "display_name": "Python 3 (ipykernel)",
   "language": "python",
   "name": "python3"
  },
  "language_info": {
   "codemirror_mode": {
    "name": "ipython",
    "version": 3
   },
   "file_extension": ".py",
   "mimetype": "text/x-python",
   "name": "python",
   "nbconvert_exporter": "python",
   "pygments_lexer": "ipython3",
   "version": "3.7.1"
  }
 },
 "nbformat": 4,
 "nbformat_minor": 2
}
