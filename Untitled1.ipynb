{
 "cells": [
  {
   "cell_type": "code",
   "execution_count": 1,
   "metadata": {},
   "outputs": [],
   "source": [
    "import mysql.connector  \t\t#importing database\n",
    "database = mysql.connector.connect(\n",
    "    host=\"localhost\",\n",
    "    user=\"root\",\n",
    "    password=\"\",\n",
    "    database = \"pythonclass8am\"\n",
    ")\n",
    "db = database.cursor()"
   ]
  },
  {
   "cell_type": "code",
   "execution_count": 10,
   "metadata": {},
   "outputs": [
    {
     "name": "stdout",
     "output_type": "stream",
     "text": [
      "(1, 'Ram Narayan', 78, 89, 78, 90, 72, 412)\n",
      "(2, 'Rama', 78, 89, 78, 90, 72, 412)\n",
      "(3, 'Harry', 70, 89, 78, 90, 72, 412)\n",
      "(4, 'Hari', 78, 98, 67, 76, 89, 408)\n"
     ]
    }
   ],
   "source": [
    "# Reading from database\n",
    "sql = \"SELECT * FROM student\"\n",
    "db.execute(sql)\n",
    "result =db.fetchall()\n",
    "for x in result:\n",
    "    print(x)"
   ]
  },
  {
   "cell_type": "code",
   "execution_count": 11,
   "metadata": {},
   "outputs": [
    {
     "data": {
      "text/plain": [
       "[(1, 'Ram Narayan', 78, 89, 78, 90, 72, 412),\n",
       " (2, 'Rama', 78, 89, 78, 90, 72, 412),\n",
       " (3, 'Harry', 70, 89, 78, 90, 72, 412),\n",
       " (4, 'Hari', 78, 98, 67, 76, 89, 408)]"
      ]
     },
     "execution_count": 11,
     "metadata": {},
     "output_type": "execute_result"
    }
   ],
   "source": [
    "# Reading from database\n",
    "data = []\n",
    "sql = \"SELECT * FROM student\"\n",
    "db.execute(sql)\n",
    "result =db.fetchall()\n",
    "for x in result:\n",
    "    data.append(x)\n",
    "    \n",
    "data"
   ]
  },
  {
   "cell_type": "code",
   "execution_count": 12,
   "metadata": {},
   "outputs": [
    {
     "data": {
      "text/plain": [
       "[(1, 'Ram Narayan', 412),\n",
       " (2, 'Rama', 412),\n",
       " (3, 'Harry', 412),\n",
       " (4, 'Hari', 408)]"
      ]
     },
     "execution_count": 12,
     "metadata": {},
     "output_type": "execute_result"
    }
   ],
   "source": [
    "# Reading from database\n",
    "data = []\n",
    "sql = \"SELECT sn,name,total FROM student\"\n",
    "db.execute(sql)\n",
    "result =db.fetchall()\n",
    "for x in result:\n",
    "    data.append(x)\n",
    "    \n",
    "data"
   ]
  },
  {
   "cell_type": "code",
   "execution_count": 14,
   "metadata": {},
   "outputs": [],
   "source": [
    "# Insert data in database\n",
    "\n",
    "sql = '''INSERT INTO student (name,physics,chemistry,math,english,nepali,total) \n",
    "VALUES('Nabin',89,98,67,78,67,400)'''\n",
    "db.execute(sql)\n",
    "database.commit()"
   ]
  },
  {
   "cell_type": "code",
   "execution_count": null,
   "metadata": {},
   "outputs": [],
   "source": [
    "n = int(input(\"Enter n = \"))\n",
    "for i in range(n):\n",
    "    name = input(\"Enter name = \")\n",
    "    physics = int(input(\"Enter physics marks = \"))\n",
    "    chemistry = int(input(\"Enter chemistry = \"))\n",
    "    math = int(input(\"Enter math marks = \"))\n",
    "    english = int(input(\"Enter english = \"))\n",
    "    nepali = int(input(\"Enter nepali marks = \"))\n",
    "\n",
    "    total = physics + chemistry + math + english + nepali\n",
    "    sql = f\"INSERT INTO student (name,physics,chemistry,math,english,nepali,total) VALUES('{name}',{physics},{chemistry},{math},{english},{nepali},{total})\"\n",
    "    db.execute(sql)\n",
    "database.commit()"
   ]
  },
  {
   "cell_type": "code",
   "execution_count": 2,
   "metadata": {},
   "outputs": [],
   "source": [
    "sql = \"UPDATE student SET name = 'Rose' WHERE sn = 3\"\n",
    "db.execute(sql)\n",
    "database.commit()"
   ]
  },
  {
   "cell_type": "code",
   "execution_count": 7,
   "metadata": {},
   "outputs": [
    {
     "name": "stdout",
     "output_type": "stream",
     "text": [
      "Enter name = Ram\n",
      "Enter SN = 1\n",
      "Enter grade = 400\n",
      "UPDATE student SET name = 'Ram',total = '400' WHERE sn = 1\n"
     ]
    }
   ],
   "source": [
    "name = input(\"Enter name = \")\n",
    "sn = int(input(\"Enter SN = \"))\n",
    "total = int(input(\"Enter grade = \"))\n",
    "sql = f\"UPDATE student SET name = '{name}',total = '{total}' WHERE sn = {sn}\"\n",
    "print(sql)\n",
    "db.execute(sql)\n",
    "database.commit()"
   ]
  },
  {
   "cell_type": "code",
   "execution_count": 8,
   "metadata": {},
   "outputs": [
    {
     "name": "stdout",
     "output_type": "stream",
     "text": [
      "(1, 'Ram', 78, 89, 78, 90, 72, 400)\n",
      "(2, 'Jack', 78, 89, 78, 90, 72, 412)\n",
      "(3, 'Rose', 70, 89, 78, 90, 72, 412)\n",
      "(4, 'Hari', 78, 98, 67, 76, 89, 408)\n",
      "(5, 'Nabin', 89, 98, 67, 78, 67, 400)\n"
     ]
    }
   ],
   "source": [
    "# Reading from database\n",
    "sql = \"SELECT * FROM student\"\n",
    "db.execute(sql)\n",
    "result =db.fetchall()\n",
    "for x in result:\n",
    "    print(x)"
   ]
  },
  {
   "cell_type": "code",
   "execution_count": null,
   "metadata": {},
   "outputs": [],
   "source": [
    "# sql = \"DELETE from student WHERE sn = 1\"\n",
    "# db.execute(sql)\n",
    "# database.commit()"
   ]
  },
  {
   "cell_type": "code",
   "execution_count": null,
   "metadata": {},
   "outputs": [],
   "source": [
    "# Input from user\n",
    "# 1 for insert\n",
    "# 2 for select\n",
    "# 3 update\n",
    "# 4 delete"
   ]
  }
 ],
 "metadata": {
  "kernelspec": {
   "display_name": "Python 3 (ipykernel)",
   "language": "python",
   "name": "python3"
  },
  "language_info": {
   "codemirror_mode": {
    "name": "ipython",
    "version": 3
   },
   "file_extension": ".py",
   "mimetype": "text/x-python",
   "name": "python",
   "nbconvert_exporter": "python",
   "pygments_lexer": "ipython3",
   "version": "3.7.1"
  }
 },
 "nbformat": 4,
 "nbformat_minor": 2
}
