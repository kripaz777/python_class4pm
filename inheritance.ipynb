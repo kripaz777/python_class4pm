{
 "cells": [
  {
   "cell_type": "code",
   "execution_count": 1,
   "metadata": {},
   "outputs": [],
   "source": [
    "class A:\n",
    "    pass\n",
    "\n",
    "class B(A):\n",
    "    pass\n",
    "\n",
    "obj = B()"
   ]
  },
  {
   "cell_type": "code",
   "execution_count": 4,
   "metadata": {},
   "outputs": [
    {
     "name": "stdout",
     "output_type": "stream",
     "text": [
      "Enter name = Ram\n",
      "Enter address = Kathmandu\n",
      "Hello World I am Ram. I am from Kathmandu\n",
      "Ram\n",
      "Kathmandu\n"
     ]
    }
   ],
   "source": [
    "class Info:                                          #parent class\n",
    "    def __init__(self):\n",
    "        self.name = input(\"Enter name = \")\n",
    "        self.add = input(\"Enter address = \")\n",
    "        \n",
    "class Data(Info):                                     #child class\n",
    "    def data(self):\n",
    "        print(f\"Hello World I am {self.name}. I am from {self.add}\")\n",
    "        \n",
    "\n",
    "obj = Data()\n",
    "obj.data()\n",
    "print(obj.name)\n",
    "print(obj.add)"
   ]
  },
  {
   "cell_type": "code",
   "execution_count": null,
   "metadata": {},
   "outputs": [],
   "source": [
    "class Info:                                          #parent class\n",
    "    def __init__(self,name,add):\n",
    "        self.name = name\n",
    "        self.add = add\n",
    "        \n",
    "class Data(Info):                                     #child class\n",
    "    def data(self):\n",
    "        print(f\"Hello World I am {self.name}. I am from {self.add}\")\n",
    "        \n",
    "\n",
    "name = input(\"Enter name = \")\n",
    "add = input(\"Enter address = \")\n",
    "\n",
    "obj = Data(name,add)\n",
    "obj.data()\n",
    "print(obj.name)\n",
    "print(obj.add)"
   ]
  },
  {
   "cell_type": "code",
   "execution_count": 7,
   "metadata": {},
   "outputs": [
    {
     "name": "stdout",
     "output_type": "stream",
     "text": [
      "Enter name = Ram\n",
      "Enter address = Kathmandu\n",
      "Enter phone = 9878778765\n",
      "Hello World I am Ram. I am from Kathmandu. My phone no is 9878778765\n",
      "Hello I am from Kathmandu My contact no is 9878778765\n",
      "Ram\n",
      "Kathmandu\n"
     ]
    }
   ],
   "source": [
    "class Info:                                          #parent class\n",
    "    def __init__(self,add,phone):\n",
    "        self.add = add\n",
    "        self.phone = phone\n",
    "    def info(self):\n",
    "        print(f\"Hello I am from {self.add} My contact no is {self.phone}\")\n",
    "        \n",
    "class Data(Info):                                     #child class\n",
    "    def __init__(self,name,add,phone):\n",
    "        self.name = name\n",
    "        Info.__init__(self,add,phone)\n",
    "        \n",
    "    def data(self):\n",
    "        print(f\"Hello World I am {self.name}. I am from {self.add}. My phone no is {self.phone}\")\n",
    "        \n",
    "\n",
    "name = input(\"Enter name = \")\n",
    "add = input(\"Enter address = \")\n",
    "phone = int(input(\"Enter phone = \"))\n",
    "\n",
    "obj = Data(name,add,phone)\n",
    "obj.data()\n",
    "obj.info()\n",
    "print(obj.name)\n",
    "print(obj.add)"
   ]
  },
  {
   "cell_type": "code",
   "execution_count": null,
   "metadata": {},
   "outputs": [],
   "source": []
  },
  {
   "cell_type": "code",
   "execution_count": 8,
   "metadata": {},
   "outputs": [
    {
     "name": "stdout",
     "output_type": "stream",
     "text": [
      "Enter name = Ram\n",
      "Enter address = Kathmandu\n",
      "Enter phone = 9808667654\n",
      "Hello World I am Ram. I am from Kathmandu. My phone no is 9808667654\n",
      "Hello I am from Kathmandu My contact no is 9808667654\n",
      "Hello I am from Kathmandu My contact no is 9808778765\n"
     ]
    }
   ],
   "source": [
    "class Info:                                          #parent class\n",
    "    def __init__(self,add,phone):\n",
    "        self.add = add\n",
    "        self.phone = phone\n",
    "    def info(self):\n",
    "        print(f\"Hello I am from {self.add} My contact no is {self.phone}\")\n",
    "        \n",
    "class Data(Info):                                     #child class\n",
    "    def __init__(self,name,add,phone):\n",
    "        self.name = name\n",
    "        Info.__init__(self,add,phone)\n",
    "        \n",
    "    def data(self):\n",
    "        print(f\"Hello World I am {self.name}. I am from {self.add}. My phone no is {self.phone}\")\n",
    "        \n",
    "\n",
    "name = input(\"Enter name = \")\n",
    "add = input(\"Enter address = \")\n",
    "phone = int(input(\"Enter phone = \"))\n",
    "\n",
    "obj = Data(name,add,phone)\n",
    "obj.data()\n",
    "obj.info()\n",
    "obj1 = Info(\"Kathmandu\",9808778765)\n",
    "obj1.info()"
   ]
  },
  {
   "cell_type": "code",
   "execution_count": null,
   "metadata": {},
   "outputs": [],
   "source": [
    "class Contact:\n",
    "    def __init__(self,phone):\n",
    "        self.phone = phone\n",
    "        \n",
    "class Info(Contact):                                          #parent class\n",
    "    def __init__(self,add,phone):\n",
    "        self.add = add\n",
    "        Contact.__init__(self,phone)\n",
    "\n",
    "    def info(self):\n",
    "        print(f\"Hello I am from {self.add} My contact no is {self.phone}\")\n",
    "        \n",
    "class Data(Info):                                     #child class\n",
    "    def __init__(self,name,add,phone):\n",
    "        self.name = name\n",
    "        Info.__init__(self,add,phone)\n",
    "        \n",
    "    def data(self):\n",
    "        print(f\"Hello World I am {self.name}. I am from {self.add}. My phone no is {self.phone}\")\n",
    "        \n",
    "name = input(\"Enter name = \")\n",
    "add = input(\"Enter address = \")\n",
    "phone = int(input(\"Enter phone = \"))\n",
    "\n",
    "obj = Data(name,add,phone)\n",
    "obj.data()\n",
    "obj.info()"
   ]
  },
  {
   "cell_type": "code",
   "execution_count": 1,
   "metadata": {},
   "outputs": [
    {
     "name": "stdout",
     "output_type": "stream",
     "text": [
      "Enter name = Ram\n",
      "Enter address = Kathmandu\n",
      "Enter phone = 9808778765\n",
      "Hello World I am Ram. I am from Kathmandu. My phone no is 9808778765\n",
      "Hello I am from Kathmandu\n"
     ]
    }
   ],
   "source": [
    "class Contact:\n",
    "    def __init__(self,phone):\n",
    "        self.phone = phone\n",
    "        \n",
    "class Info:                                          #parent class\n",
    "    def __init__(self,add):\n",
    "        self.add = add\n",
    "\n",
    "    def info(self):\n",
    "        print(f\"Hello I am from {self.add}\")\n",
    "        \n",
    "class Data(Info,Contact):                                     #child class\n",
    "    def __init__(self,name,add,phone):\n",
    "        self.name = name\n",
    "        Info.__init__(self,add)\n",
    "        Contact.__init__(self,phone)\n",
    "\n",
    "        \n",
    "    def data(self):\n",
    "        print(f\"Hello World I am {self.name}. I am from {self.add}. My phone no is {self.phone}\")\n",
    "        \n",
    "name = input(\"Enter name = \")\n",
    "add = input(\"Enter address = \")\n",
    "phone = int(input(\"Enter phone = \"))\n",
    "\n",
    "obj = Data(name,add,phone)\n",
    "obj.data()\n",
    "obj.info()"
   ]
  },
  {
   "cell_type": "code",
   "execution_count": 1,
   "metadata": {},
   "outputs": [],
   "source": [
    "# Incapsulation"
   ]
  },
  {
   "cell_type": "code",
   "execution_count": 2,
   "metadata": {},
   "outputs": [],
   "source": [
    "# private,protected,public data"
   ]
  },
  {
   "cell_type": "code",
   "execution_count": 3,
   "metadata": {},
   "outputs": [
    {
     "name": "stdout",
     "output_type": "stream",
     "text": [
      "Ram\n",
      "34\n",
      "Kathmandu\n"
     ]
    }
   ],
   "source": [
    "#Public attributes\n",
    "class Info:\n",
    "    def __init__(self,name,age,add):\n",
    "        self.name = name\n",
    "        self.add = add\n",
    "        self.age = age\n",
    "        \n",
    "obj = Info(\"Ram\",34,\"Kathmandu\")\n",
    "print(obj.name)\n",
    "print(obj.age)\n",
    "print(obj.add)"
   ]
  },
  {
   "cell_type": "code",
   "execution_count": 5,
   "metadata": {},
   "outputs": [
    {
     "name": "stdout",
     "output_type": "stream",
     "text": [
      "Ram\n",
      "34\n",
      "Kathmandu\n"
     ]
    }
   ],
   "source": [
    "#Protected attributes\n",
    "class Info:\n",
    "    def __init__(self,name,age,add):\n",
    "        self._name = name\n",
    "        self._add = add\n",
    "        self._age = age\n",
    "        \n",
    "obj = Info(\"Ram\",34,\"Kathmandu\")\n",
    "print(obj._name)\n",
    "print(obj._age)\n",
    "print(obj._add)"
   ]
  },
  {
   "cell_type": "code",
   "execution_count": 6,
   "metadata": {},
   "outputs": [
    {
     "ename": "AttributeError",
     "evalue": "'Info' object has no attribute '__name'",
     "output_type": "error",
     "traceback": [
      "\u001b[1;31m---------------------------------------------------------------------------\u001b[0m",
      "\u001b[1;31mAttributeError\u001b[0m                            Traceback (most recent call last)",
      "\u001b[1;32m~\\AppData\\Local\\Temp/ipykernel_3348/4122276457.py\u001b[0m in \u001b[0;36m<module>\u001b[1;34m\u001b[0m\n\u001b[0;32m      7\u001b[0m \u001b[1;33m\u001b[0m\u001b[0m\n\u001b[0;32m      8\u001b[0m \u001b[0mobj\u001b[0m \u001b[1;33m=\u001b[0m \u001b[0mInfo\u001b[0m\u001b[1;33m(\u001b[0m\u001b[1;34m\"Ram\"\u001b[0m\u001b[1;33m,\u001b[0m\u001b[1;36m34\u001b[0m\u001b[1;33m,\u001b[0m\u001b[1;34m\"Kathmandu\"\u001b[0m\u001b[1;33m)\u001b[0m\u001b[1;33m\u001b[0m\u001b[1;33m\u001b[0m\u001b[0m\n\u001b[1;32m----> 9\u001b[1;33m \u001b[0mprint\u001b[0m\u001b[1;33m(\u001b[0m\u001b[0mobj\u001b[0m\u001b[1;33m.\u001b[0m\u001b[0m__name\u001b[0m\u001b[1;33m)\u001b[0m\u001b[1;33m\u001b[0m\u001b[1;33m\u001b[0m\u001b[0m\n\u001b[0m\u001b[0;32m     10\u001b[0m \u001b[0mprint\u001b[0m\u001b[1;33m(\u001b[0m\u001b[0mobj\u001b[0m\u001b[1;33m.\u001b[0m\u001b[0m__age\u001b[0m\u001b[1;33m)\u001b[0m\u001b[1;33m\u001b[0m\u001b[1;33m\u001b[0m\u001b[0m\n\u001b[0;32m     11\u001b[0m \u001b[0mprint\u001b[0m\u001b[1;33m(\u001b[0m\u001b[0mobj\u001b[0m\u001b[1;33m.\u001b[0m\u001b[0m__add\u001b[0m\u001b[1;33m)\u001b[0m\u001b[1;33m\u001b[0m\u001b[1;33m\u001b[0m\u001b[0m\n",
      "\u001b[1;31mAttributeError\u001b[0m: 'Info' object has no attribute '__name'"
     ]
    }
   ],
   "source": [
    "#Private attributes\n",
    "class Info:\n",
    "    def __init__(self,name,age,add):\n",
    "        self.__name = name\n",
    "        self.__add = add\n",
    "        self.__age = age\n",
    "        \n",
    "obj = Info(\"Ram\",34,\"Kathmandu\")\n",
    "print(obj.__name)\n",
    "print(obj.__age)\n",
    "print(obj.__add)"
   ]
  },
  {
   "cell_type": "code",
   "execution_count": 7,
   "metadata": {},
   "outputs": [
    {
     "name": "stdout",
     "output_type": "stream",
     "text": [
      "Enter name = Ram\n",
      "Enter address = Kathmandu\n",
      "I am from Kathmandu\n",
      "Kathmandu\n"
     ]
    }
   ],
   "source": [
    "class Info:                                          #parent class\n",
    "    def __init__(self,name,add):\n",
    "        self.__name = name\n",
    "        self._add = add\n",
    "        \n",
    "    def info(self):\n",
    "        print(f\"Hello I am {self.__name}. I am from {self._add}\")\n",
    "        \n",
    "class Data(Info):                                     #child class\n",
    "    def data(self):\n",
    "        print(f\"I am from {self._add}\")\n",
    "        \n",
    "\n",
    "name = input(\"Enter name = \")\n",
    "add = input(\"Enter address = \")\n",
    "\n",
    "obj = Data(name,add)\n",
    "obj.data()\n",
    "print(obj._add)"
   ]
  },
  {
   "cell_type": "code",
   "execution_count": 8,
   "metadata": {},
   "outputs": [
    {
     "name": "stdout",
     "output_type": "stream",
     "text": [
      "Enter name = Ram\n",
      "Enter address = Kathmandu\n",
      "Enter phone = 24243423\n",
      "Hello World I am Ram. I am from Kathmandu. My phone no is 24243423\n",
      "Hello I am from Kathmandu\n"
     ]
    }
   ],
   "source": [
    "class Contact:\n",
    "    def __init__(self,phone):\n",
    "        self._phone = phone\n",
    "class Info:                                          #parent class\n",
    "    def __init__(self,add):\n",
    "        self._add = add\n",
    "    def info(self):\n",
    "        print(f\"Hello I am from {self._add}\")\n",
    "class Data(Info,Contact):                                     #child class\n",
    "    def __init__(self,name,add,phone):\n",
    "        self.__name = name\n",
    "        Info.__init__(self,add)\n",
    "        Contact.__init__(self,phone)\n",
    "    def data(self):\n",
    "        print(f\"Hello World I am {self.__name}. I am from {self._add}. My phone no is {self._phone}\")\n",
    "        \n",
    "name = input(\"Enter name = \")\n",
    "add = input(\"Enter address = \")\n",
    "phone = int(input(\"Enter phone = \"))\n",
    "obj = Data(name,add,phone)\n",
    "obj.data()\n",
    "obj.info()"
   ]
  },
  {
   "cell_type": "code",
   "execution_count": null,
   "metadata": {},
   "outputs": [],
   "source": [
    "class Parrot:\n",
    "    def fly(self):\n",
    "        print(\"Parrot can fly\")\n",
    "    def swim(self):\n",
    "        print(\"Parrot can't swim\")\n",
    "        \n",
    "class Penguin:\n",
    "    def fly(self):\n",
    "        print(\"Penguin can't fly\")\n",
    "    def swim(self):\n",
    "        print(\"Penguin can swim\")\n",
    "        \n",
    "# common interface\n",
    "def flying_test(bird):\n",
    "    bird.fly()\n",
    "#instantiate objects\n",
    "blu = Parrot()\n",
    "peggy = Penguin()\n",
    "# passing the object\n",
    "flying_test(blu)\n",
    "flying_test(peggy)\n",
    "\n"
   ]
  },
  {
   "cell_type": "code",
   "execution_count": 10,
   "metadata": {},
   "outputs": [],
   "source": [
    "# a = [1,2,3,4]\n",
    "# a.append()\n",
    "# sum(a)"
   ]
  },
  {
   "cell_type": "code",
   "execution_count": 12,
   "metadata": {},
   "outputs": [
    {
     "name": "stdout",
     "output_type": "stream",
     "text": [
      "<class 'list'>\n"
     ]
    }
   ],
   "source": [
    "a = [1,2,3]\n",
    "print(type(a))"
   ]
  },
  {
   "cell_type": "code",
   "execution_count": 16,
   "metadata": {},
   "outputs": [
    {
     "name": "stdout",
     "output_type": "stream",
     "text": [
      "Enter name = Ram\n",
      "Enter address = Kathmandu\n",
      "Hello World I am Ram. I am from Kathmandu\n",
      "Ram\n",
      "Kathmandu\n"
     ]
    }
   ],
   "source": [
    "class Info:                                          #parent class\n",
    "    def __init__(self):\n",
    "        self.name = input(\"Enter name = \")\n",
    "        self.add = input(\"Enter address = \")\n",
    "    def data(self):\n",
    "        print(f\"Hello World I am {self.name}. I am from {self.add}\")\n",
    "        \n",
    "class Data(Info):                                     #child class\n",
    "    def call_data(self):\n",
    "        super().data()\n",
    "        \n",
    "obj = Data()\n",
    "obj.call_data()\n",
    "print(obj.name)\n",
    "print(obj.add)"
   ]
  },
  {
   "cell_type": "code",
   "execution_count": null,
   "metadata": {},
   "outputs": [],
   "source": []
  }
 ],
 "metadata": {
  "kernelspec": {
   "display_name": "Python 3 (ipykernel)",
   "language": "python",
   "name": "python3"
  },
  "language_info": {
   "codemirror_mode": {
    "name": "ipython",
    "version": 3
   },
   "file_extension": ".py",
   "mimetype": "text/x-python",
   "name": "python",
   "nbconvert_exporter": "python",
   "pygments_lexer": "ipython3",
   "version": "3.7.1"
  }
 },
 "nbformat": 4,
 "nbformat_minor": 2
}
