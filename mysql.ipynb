{
 "cells": [
  {
   "cell_type": "code",
   "execution_count": 1,
   "metadata": {},
   "outputs": [],
   "source": [
    "# to install mysql connector\n",
    "# !pip install mysql-connector"
   ]
  },
  {
   "cell_type": "code",
   "execution_count": 12,
   "metadata": {},
   "outputs": [],
   "source": [
    "import mysql.connector #importing database\n",
    "database = mysql.connector.connect(\n",
    "    host=\"localhost\",\n",
    "    user=\"root\",\n",
    "    password=\"\",\n",
    "  database = \"pythonclass4pm\"\n",
    ")\n",
    "\n",
    "db = database.cursor()"
   ]
  },
  {
   "cell_type": "code",
   "execution_count": 5,
   "metadata": {},
   "outputs": [
    {
     "name": "stdout",
     "output_type": "stream",
     "text": [
      "(0, 'Hari', 67, 89, 95, 89, 72, 412, 80.0, 'A')\n",
      "(1, 'Ram', 78, 80, 78, 89, 80, 400, 80.0, 'A')\n",
      "(3, 'Hari', 67, 89, 95, 89, 72, 412, 80.0, 'B')\n"
     ]
    }
   ],
   "source": [
    "db.execute(\"SELECT * FROM student\")\n",
    "result =db.fetchall()\n",
    "for x in result:\n",
    "    print(x)\n"
   ]
  },
  {
   "cell_type": "code",
   "execution_count": 11,
   "metadata": {},
   "outputs": [],
   "source": [
    "# Inserting data\n",
    "sql = \"INSERT INTO student(sn,name,physics,chemistry,math,engish,nepali,total,per,grade) VALUES(5,'Nabin',89,67,87,67,89,380,78,'B')\"\n",
    "db.execute(sql)\n",
    "database.commit()"
   ]
  },
  {
   "cell_type": "code",
   "execution_count": 16,
   "metadata": {},
   "outputs": [
    {
     "name": "stdout",
     "output_type": "stream",
     "text": [
      "Enter sn = 6\n",
      "Enter name = Ram\n",
      "Enter physics = 89\n",
      "Enter chemistry = 90\n",
      "Enter math = 98\n",
      "Enter english = 89\n",
      "Enter nepali = 78\n"
     ]
    }
   ],
   "source": [
    "sn = int(input(\"Enter sn = \"))\n",
    "name = input(\"Enter name = \")\n",
    "physics = int(input(\"Enter physics = \"))\n",
    "chemistry = int(input(\"Enter chemistry = \"))\n",
    "math = int(input(\"Enter math = \"))\n",
    "english = int(input(\"Enter english = \"))\n",
    "nepali = int(input(\"Enter nepali = \"))\n",
    "\n",
    "total = physics + chemistry +math+ english + nepali\n",
    "per = total/5\n",
    "if per >= 80:\n",
    "    grade = \"A\"\n",
    "    \n",
    "elif per >= 60:\n",
    "    grade = \"B\"\n",
    "\n",
    "elif per >= 45:\n",
    "    grade = \"C\"\n",
    "\n",
    "else:\n",
    "    grade = \"F\"\n",
    "\n",
    "sql = f\"INSERT INTO student(sn,name,physics,chemistry,math,engish,nepali,total,per,grade) VALUES({sn},'{name}',{physics},{chemistry},{math},{english},{nepali},{total},{per},'{grade}')\"\n",
    "db.execute(sql)\n",
    "database.commit()"
   ]
  },
  {
   "cell_type": "code",
   "execution_count": null,
   "metadata": {},
   "outputs": [],
   "source": [
    "# update\n",
    "# UPDATE student SET name = 'Hari' , sn = 10 WHERE sn = 2"
   ]
  },
  {
   "cell_type": "code",
   "execution_count": null,
   "metadata": {},
   "outputs": [],
   "source": [
    "# Delete\n",
    "#DELETE FROM student WHERE sn = 2"
   ]
  },
  {
   "cell_type": "code",
   "execution_count": null,
   "metadata": {},
   "outputs": [],
   "source": [
    "# sql = ?\n",
    "# b.execute(sql)\n",
    "# database.commit()"
   ]
  },
  {
   "cell_type": "code",
   "execution_count": null,
   "metadata": {},
   "outputs": [],
   "source": [
    "UPDATE student SET name = '{name}' , sn = {sn} ,physics = {physics}, chemistry = 89, math = 89WHERE sn = 2"
   ]
  },
  {
   "cell_type": "code",
   "execution_count": null,
   "metadata": {},
   "outputs": [],
   "source": [
    "sn = int(input(\"Enter sn = \"))\n",
    "name = input(\"Enter name = \")\n",
    "physics = int(input(\"Enter physics = \"))\n",
    "chemistry = int(input(\"Enter chemistry = \"))\n",
    "math = int(input(\"Enter math = \"))\n",
    "english = int(input(\"Enter english = \"))\n",
    "nepali = int(input(\"Enter nepali = \"))\n",
    "\n",
    "total = physics + chemistry +math+ english + nepali\n",
    "per = total/5\n",
    "if per >= 80:\n",
    "    grade = \"A\"\n",
    "    \n",
    "elif per >= 60:\n",
    "    grade = \"B\"\n",
    "\n",
    "elif per >= 45:\n",
    "    grade = \"C\"\n",
    "\n",
    "else:\n",
    "    grade = \"F\"\n",
    "\n",
    "sql = f\"UPDATE student SET name = '{name}',physics= {physics}, chemistry = {chemistry}, math = {math},\n",
    "engish={english}, nepali = {nepali}, total ={total}, per = {per}, grade = '{grade}' WHERE sn = {sn}\"\n",
    "db.execute(sql)\n",
    "database.commit()"
   ]
  },
  {
   "cell_type": "code",
   "execution_count": null,
   "metadata": {},
   "outputs": [],
   "source": [
    "# Delete\n",
    "#DELETE FROM student WHERE sn = 2"
   ]
  },
  {
   "cell_type": "code",
   "execution_count": 18,
   "metadata": {},
   "outputs": [
    {
     "data": {
      "text/plain": [
       "[(6, 'Ram', 89, 90, 98, 89, 78, 444, 88.8, 'A'),\n",
       " (5, 'Nabin', 89, 67, 87, 67, 89, 380, 78.0, 'B'),\n",
       " (3, 'Hari', 67, 89, 95, 89, 72, 412, 80.0, 'B')]"
      ]
     },
     "execution_count": 18,
     "metadata": {},
     "output_type": "execute_result"
    }
   ],
   "source": [
    "db.execute(\"SELECT * FROM student\")\n",
    "result =db.fetchall()\n",
    "result[:-4:-1]\n"
   ]
  },
  {
   "cell_type": "code",
   "execution_count": null,
   "metadata": {},
   "outputs": [],
   "source": []
  }
 ],
 "metadata": {
  "kernelspec": {
   "display_name": "Python 3 (ipykernel)",
   "language": "python",
   "name": "python3"
  },
  "language_info": {
   "codemirror_mode": {
    "name": "ipython",
    "version": 3
   },
   "file_extension": ".py",
   "mimetype": "text/x-python",
   "name": "python",
   "nbconvert_exporter": "python",
   "pygments_lexer": "ipython3",
   "version": "3.7.1"
  }
 },
 "nbformat": 4,
 "nbformat_minor": 2
}
