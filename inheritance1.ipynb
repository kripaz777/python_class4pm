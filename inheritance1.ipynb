{
 "cells": [
  {
   "cell_type": "code",
   "execution_count": 1,
   "metadata": {},
   "outputs": [],
   "source": [
    "class A:\n",
    "    pass\n",
    "\n",
    "class B(A):\n",
    "    pass\n",
    "\n",
    "obj = B()"
   ]
  },
  {
   "cell_type": "code",
   "execution_count": 3,
   "metadata": {},
   "outputs": [
    {
     "name": "stdout",
     "output_type": "stream",
     "text": [
      "Enter name = Ram\n",
      "Enter address = Kathmandu\n",
      "Hello World I am Ram. I am from Kathmandu\n",
      "Ram\n",
      "Kathmandu\n"
     ]
    }
   ],
   "source": [
    "class Info:                                   #parent class\n",
    "    def __init__(self):\n",
    "        self.name = input(\"Enter name = \")\n",
    "        self.add = input(\"Enter address = \")\n",
    "        \n",
    "    def info(self):\n",
    "        print(self.name,self.add)\n",
    "        \n",
    "class Data(Info):                             #child class\n",
    "    def data(self):\n",
    "        print(f\"Hello World I am {self.name}. I am from {self.add}\")\n",
    "        \n",
    "obj = Data()\n",
    "obj.data()\n",
    "print(obj.name)\n",
    "print(obj.add)\n",
    "obj.info()"
   ]
  },
  {
   "cell_type": "code",
   "execution_count": null,
   "metadata": {},
   "outputs": [],
   "source": [
    "class Info:                                   #parent class\n",
    "    def __init__(self,name,add):\n",
    "        self.name = name\n",
    "        self.add = add\n",
    "        \n",
    "    def info(self):\n",
    "        print(self.name,self.add)\n",
    "        \n",
    "class Data(Info):                             #child class\n",
    "    def data(self):\n",
    "        print(f\"Hello World I am {self.name}. I am from {self.add}\")\n",
    "        \n",
    "\n",
    "name = input(\"Enter name = \")\n",
    "add = input(\"Enter address = \")\n",
    "obj = Data(name,add)\n",
    "obj.data()\n",
    "print(obj.name)\n",
    "print(obj.add)\n",
    "obj.info()"
   ]
  },
  {
   "cell_type": "code",
   "execution_count": null,
   "metadata": {},
   "outputs": [],
   "source": [
    "class Info:                                   #parent class\n",
    "    def __init__(self,add):\n",
    "        self.add = add\n",
    "        \n",
    "    def info(self):\n",
    "        print(self.add)\n",
    "        \n",
    "class Data(Info):                             #child class\n",
    "    def __init__(self,name,add):\n",
    "        self.name = name\n",
    "        Info.__init__(self,add)\n",
    "    def data(self):\n",
    "        print(f\"Hello World I am {self.name}. I am from {self.add}\")\n",
    "        \n",
    "\n",
    "name = input(\"Enter name = \")\n",
    "add = input(\"Enter address = \")\n",
    "obj = Data(name,add)\n",
    "obj.data()\n",
    "print(obj.name)\n",
    "print(obj.add)\n",
    "obj.info()"
   ]
  },
  {
   "cell_type": "code",
   "execution_count": 4,
   "metadata": {},
   "outputs": [],
   "source": [
    "class A:\n",
    "    pass\n",
    "class B(A):\n",
    "    pass\n",
    "class C(B):\n",
    "    pass\n",
    "\n",
    "obj = C()"
   ]
  },
  {
   "cell_type": "code",
   "execution_count": null,
   "metadata": {},
   "outputs": [],
   "source": [
    "class A:\n",
    "    pass\n",
    "class B:\n",
    "    pass\n",
    "class C(A,B):\n",
    "    pass\n",
    "obj = C()"
   ]
  },
  {
   "cell_type": "code",
   "execution_count": 6,
   "metadata": {},
   "outputs": [
    {
     "name": "stdout",
     "output_type": "stream",
     "text": [
      "Enter name = Ram\n",
      "Enter address = Kathmandu\n",
      "Enter age = 78\n",
      "Hello World I am Ram. I am from Kathmandu\n",
      "Ram\n",
      "Kathmandu\n"
     ]
    }
   ],
   "source": [
    "class Contact:\n",
    "    def __init__(self,age):\n",
    "        self.age = age\n",
    "        \n",
    "class Info(Contact):                                   \n",
    "    def __init__(self,add,age):\n",
    "        self.add = add\n",
    "        Contact.__init__(self,age)\n",
    "        \n",
    "class Data(Info):                             \n",
    "    def __init__(self,name,add,age):\n",
    "        self.name = name\n",
    "        Info.__init__(self,add,age)\n",
    "    def data(self):\n",
    "        print(f\"Hello World I am {self.name}. I am from {self.add}\")\n",
    "        \n",
    "\n",
    "name = input(\"Enter name = \")\n",
    "add = input(\"Enter address = \")\n",
    "age = int(input(\"Enter age = \"))\n",
    "\n",
    "obj = Data(name,add,age)\n",
    "obj.data()\n",
    "print(obj.name)\n",
    "print(obj.add)\n"
   ]
  },
  {
   "cell_type": "code",
   "execution_count": null,
   "metadata": {},
   "outputs": [],
   "source": [
    "class Contact:\n",
    "    def __init__(self,age):\n",
    "        self.age = age\n",
    "        \n",
    "class Info:                                   \n",
    "    def __init__(self,add):\n",
    "        self.add = add\n",
    "        \n",
    "class Data(Info,Contact):                             \n",
    "    def __init__(self,name,add,age):\n",
    "        self.name = name\n",
    "        Info.__init__(self,add)\n",
    "        Contact.__init__(self,age)\n",
    "        \n",
    "    def data(self):\n",
    "        print(f\"Hello World I am {self.name}. I am from {self.add}\")\n",
    "        \n",
    "name = input(\"Enter name = \")\n",
    "add = input(\"Enter address = \")\n",
    "age = int(input(\"Enter age = \"))\n",
    "\n",
    "obj = Data(name,add,age)\n",
    "obj.data()\n",
    "print(obj.name)\n",
    "print(obj.add)\n"
   ]
  },
  {
   "cell_type": "code",
   "execution_count": null,
   "metadata": {},
   "outputs": [],
   "source": [
    "class A:\n",
    "    pass\n",
    "class B:\n",
    "    pass\n",
    "\n",
    "class Contact(A,B):\n",
    "    def __init__(self,age):\n",
    "        self.age = age\n",
    "        \n",
    "class Info(Contact):                                   \n",
    "    def __init__(self,add,age):\n",
    "        self.add = add\n",
    "        Contact.__init__(self,age)\n",
    "        \n",
    "class Data(Info):                             \n",
    "    def __init__(self,name,add,age):\n",
    "        self.name = name\n",
    "        Info.__init__(self,add,age)\n",
    "    def data(self):\n",
    "        print(f\"Hello World I am {self.name}. I am from {self.add}\")\n",
    "        \n",
    "\n",
    "name = input(\"Enter name = \")\n",
    "add = input(\"Enter address = \")\n",
    "age = int(input(\"Enter age = \"))\n",
    "\n",
    "obj = Data(name,add,age)\n",
    "obj.data()\n",
    "print(obj.name)\n",
    "print(obj.add)\n"
   ]
  },
  {
   "cell_type": "code",
   "execution_count": 3,
   "metadata": {},
   "outputs": [
    {
     "name": "stdout",
     "output_type": "stream",
     "text": [
      "Ram\n",
      "56\n",
      "Kathmandu\n"
     ]
    }
   ],
   "source": [
    "# public attributes\n",
    "class Info:\n",
    "    def __init__(self,name,age,add):\n",
    "        self.name= name\n",
    "        self.age = age\n",
    "        self.add = add\n",
    "        \n",
    "obj = Info(\"Ram\",56,\"Kathmandu\")\n",
    "print(obj.name)\n",
    "print(obj.age)\n",
    "print(obj.add)"
   ]
  },
  {
   "cell_type": "code",
   "execution_count": 5,
   "metadata": {},
   "outputs": [
    {
     "name": "stdout",
     "output_type": "stream",
     "text": [
      "Ram\n",
      "56\n",
      "Kathmandu\n"
     ]
    }
   ],
   "source": [
    "# protected attributes\n",
    "class Info:\n",
    "    def __init__(self,name,age,add):\n",
    "        self._name= name\n",
    "        self._age = age\n",
    "        self._add = add\n",
    "        \n",
    "obj = Info(\"Ram\",56,\"Kathmandu\")\n",
    "print(obj._name)\n",
    "print(obj._age)\n",
    "print(obj._add)"
   ]
  },
  {
   "cell_type": "code",
   "execution_count": 6,
   "metadata": {},
   "outputs": [
    {
     "ename": "AttributeError",
     "evalue": "'Info' object has no attribute '__name'",
     "output_type": "error",
     "traceback": [
      "\u001b[1;31m---------------------------------------------------------------------------\u001b[0m",
      "\u001b[1;31mAttributeError\u001b[0m                            Traceback (most recent call last)",
      "\u001b[1;32m~\\AppData\\Local\\Temp/ipykernel_13656/1656155063.py\u001b[0m in \u001b[0;36m<module>\u001b[1;34m\u001b[0m\n\u001b[0;32m      7\u001b[0m \u001b[1;33m\u001b[0m\u001b[0m\n\u001b[0;32m      8\u001b[0m \u001b[0mobj\u001b[0m \u001b[1;33m=\u001b[0m \u001b[0mInfo\u001b[0m\u001b[1;33m(\u001b[0m\u001b[1;34m\"Ram\"\u001b[0m\u001b[1;33m,\u001b[0m\u001b[1;36m56\u001b[0m\u001b[1;33m,\u001b[0m\u001b[1;34m\"Kathmandu\"\u001b[0m\u001b[1;33m)\u001b[0m\u001b[1;33m\u001b[0m\u001b[1;33m\u001b[0m\u001b[0m\n\u001b[1;32m----> 9\u001b[1;33m \u001b[0mprint\u001b[0m\u001b[1;33m(\u001b[0m\u001b[0mobj\u001b[0m\u001b[1;33m.\u001b[0m\u001b[0m__name\u001b[0m\u001b[1;33m)\u001b[0m\u001b[1;33m\u001b[0m\u001b[1;33m\u001b[0m\u001b[0m\n\u001b[0m\u001b[0;32m     10\u001b[0m \u001b[0mprint\u001b[0m\u001b[1;33m(\u001b[0m\u001b[0mobj\u001b[0m\u001b[1;33m.\u001b[0m\u001b[0m__age\u001b[0m\u001b[1;33m)\u001b[0m\u001b[1;33m\u001b[0m\u001b[1;33m\u001b[0m\u001b[0m\n\u001b[0;32m     11\u001b[0m \u001b[0mprint\u001b[0m\u001b[1;33m(\u001b[0m\u001b[0mobj\u001b[0m\u001b[1;33m.\u001b[0m\u001b[0m__add\u001b[0m\u001b[1;33m)\u001b[0m\u001b[1;33m\u001b[0m\u001b[1;33m\u001b[0m\u001b[0m\n",
      "\u001b[1;31mAttributeError\u001b[0m: 'Info' object has no attribute '__name'"
     ]
    }
   ],
   "source": [
    "# private attributes\n",
    "class Info:\n",
    "    def __init__(self,name,age,add):\n",
    "        self.__name= name\n",
    "        self.__age = age\n",
    "        self.__add = add\n",
    "        \n",
    "obj = Info(\"Ram\",56,\"Kathmandu\")\n",
    "print(obj.__name)\n",
    "print(obj.__age)\n",
    "print(obj.__add)"
   ]
  },
  {
   "cell_type": "code",
   "execution_count": 9,
   "metadata": {},
   "outputs": [
    {
     "name": "stdout",
     "output_type": "stream",
     "text": [
      "Ram\n",
      "56\n",
      "Kathmandu\n"
     ]
    }
   ],
   "source": [
    "# private attributes\n",
    "class Info:\n",
    "    def __init__(self,name,age,add):\n",
    "        self.__name= name\n",
    "        self.__age = age\n",
    "        self.__add = add\n",
    "        \n",
    "obj = Info(\"Ram\",56,\"Kathmandu\")\n",
    "print(obj._Info__name)\n",
    "print(obj._Info__age)\n",
    "print(obj._Info__add)"
   ]
  },
  {
   "cell_type": "code",
   "execution_count": 8,
   "metadata": {},
   "outputs": [
    {
     "name": "stdout",
     "output_type": "stream",
     "text": [
      "Enter name = Ram\n",
      "Enter address = Kathmandu\n"
     ]
    },
    {
     "ename": "AttributeError",
     "evalue": "'Data' object has no attribute '_Data__add'",
     "output_type": "error",
     "traceback": [
      "\u001b[1;31m---------------------------------------------------------------------------\u001b[0m",
      "\u001b[1;31mAttributeError\u001b[0m                            Traceback (most recent call last)",
      "\u001b[1;32m~\\AppData\\Local\\Temp/ipykernel_13656/728857997.py\u001b[0m in \u001b[0;36m<module>\u001b[1;34m\u001b[0m\n\u001b[0;32m     12\u001b[0m \u001b[1;33m\u001b[0m\u001b[0m\n\u001b[0;32m     13\u001b[0m \u001b[0mobj\u001b[0m \u001b[1;33m=\u001b[0m \u001b[0mData\u001b[0m\u001b[1;33m(\u001b[0m\u001b[1;33m)\u001b[0m\u001b[1;33m\u001b[0m\u001b[1;33m\u001b[0m\u001b[0m\n\u001b[1;32m---> 14\u001b[1;33m \u001b[0mobj\u001b[0m\u001b[1;33m.\u001b[0m\u001b[0mdata\u001b[0m\u001b[1;33m(\u001b[0m\u001b[1;33m)\u001b[0m\u001b[1;33m\u001b[0m\u001b[1;33m\u001b[0m\u001b[0m\n\u001b[0m\u001b[0;32m     15\u001b[0m \u001b[0mprint\u001b[0m\u001b[1;33m(\u001b[0m\u001b[0mobj\u001b[0m\u001b[1;33m.\u001b[0m\u001b[0mname\u001b[0m\u001b[1;33m)\u001b[0m\u001b[1;33m\u001b[0m\u001b[1;33m\u001b[0m\u001b[0m\n\u001b[0;32m     16\u001b[0m \u001b[0mprint\u001b[0m\u001b[1;33m(\u001b[0m\u001b[0mobj\u001b[0m\u001b[1;33m.\u001b[0m\u001b[0madd\u001b[0m\u001b[1;33m)\u001b[0m\u001b[1;33m\u001b[0m\u001b[1;33m\u001b[0m\u001b[0m\n",
      "\u001b[1;32m~\\AppData\\Local\\Temp/ipykernel_13656/728857997.py\u001b[0m in \u001b[0;36mdata\u001b[1;34m(self)\u001b[0m\n\u001b[0;32m      9\u001b[0m \u001b[1;32mclass\u001b[0m \u001b[0mData\u001b[0m\u001b[1;33m(\u001b[0m\u001b[0mInfo\u001b[0m\u001b[1;33m)\u001b[0m\u001b[1;33m:\u001b[0m                             \u001b[1;31m#child class\u001b[0m\u001b[1;33m\u001b[0m\u001b[1;33m\u001b[0m\u001b[0m\n\u001b[0;32m     10\u001b[0m     \u001b[1;32mdef\u001b[0m \u001b[0mdata\u001b[0m\u001b[1;33m(\u001b[0m\u001b[0mself\u001b[0m\u001b[1;33m)\u001b[0m\u001b[1;33m:\u001b[0m\u001b[1;33m\u001b[0m\u001b[1;33m\u001b[0m\u001b[0m\n\u001b[1;32m---> 11\u001b[1;33m         \u001b[0mprint\u001b[0m\u001b[1;33m(\u001b[0m\u001b[1;34mf\"Hello World I am {self.name}. I am from {self.__add}\"\u001b[0m\u001b[1;33m)\u001b[0m\u001b[1;33m\u001b[0m\u001b[1;33m\u001b[0m\u001b[0m\n\u001b[0m\u001b[0;32m     12\u001b[0m \u001b[1;33m\u001b[0m\u001b[0m\n\u001b[0;32m     13\u001b[0m \u001b[0mobj\u001b[0m \u001b[1;33m=\u001b[0m \u001b[0mData\u001b[0m\u001b[1;33m(\u001b[0m\u001b[1;33m)\u001b[0m\u001b[1;33m\u001b[0m\u001b[1;33m\u001b[0m\u001b[0m\n",
      "\u001b[1;31mAttributeError\u001b[0m: 'Data' object has no attribute '_Data__add'"
     ]
    }
   ],
   "source": [
    "class Info:                                   #parent class\n",
    "    def __init__(self):\n",
    "        self.name = input(\"Enter name = \")\n",
    "        self.__add = input(\"Enter address = \")\n",
    "        \n",
    "    def info(self):\n",
    "        print(self.name,self.__add)\n",
    "        \n",
    "class Data(Info):                             #child class\n",
    "    def data(self):\n",
    "        print(f\"Hello World I am {self.name}. I am from {self.__add}\")\n",
    "        \n",
    "obj = Data()\n",
    "obj.data()\n",
    "print(obj.name)\n",
    "print(obj.add)\n",
    "obj.info()"
   ]
  },
  {
   "cell_type": "code",
   "execution_count": 11,
   "metadata": {},
   "outputs": [
    {
     "name": "stdout",
     "output_type": "stream",
     "text": [
      "Enter name = Ram\n",
      "Enter address = Kathmandu\n",
      "Hello World I am Ram. I am from Kathmandu\n",
      "Ram\n",
      "Ram Kathmandu\n"
     ]
    }
   ],
   "source": [
    "class Info:                                   #parent class\n",
    "    def __init__(self):\n",
    "        self._name = input(\"Enter name = \")\n",
    "        self.__add = input(\"Enter address = \")\n",
    "        \n",
    "    def info(self):\n",
    "        print(self._name,self.__add)\n",
    "        \n",
    "class Data(Info):                             #child class\n",
    "    def data(self):\n",
    "        print(f\"Hello World I am {self._name}. I am from {self._Info__add}\")\n",
    "        \n",
    "obj = Data()\n",
    "obj.data()\n",
    "print(obj.name)\n",
    "obj.info()"
   ]
  },
  {
   "cell_type": "code",
   "execution_count": null,
   "metadata": {},
   "outputs": [],
   "source": []
  },
  {
   "cell_type": "code",
   "execution_count": null,
   "metadata": {},
   "outputs": [],
   "source": []
  }
 ],
 "metadata": {
  "kernelspec": {
   "display_name": "Python 3 (ipykernel)",
   "language": "python",
   "name": "python3"
  },
  "language_info": {
   "codemirror_mode": {
    "name": "ipython",
    "version": 3
   },
   "file_extension": ".py",
   "mimetype": "text/x-python",
   "name": "python",
   "nbconvert_exporter": "python",
   "pygments_lexer": "ipython3",
   "version": "3.7.1"
  }
 },
 "nbformat": 4,
 "nbformat_minor": 2
}
