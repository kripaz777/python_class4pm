{
 "cells": [
  {
   "cell_type": "code",
   "execution_count": 1,
   "metadata": {},
   "outputs": [],
   "source": [
    "# String\n",
    "# -Sequence of char\n",
    "# -imutable datatype"
   ]
  },
  {
   "cell_type": "code",
   "execution_count": 2,
   "metadata": {},
   "outputs": [
    {
     "name": "stdout",
     "output_type": "stream",
     "text": [
      "Hello World\n",
      "<class 'str'>\n"
     ]
    }
   ],
   "source": [
    "a = \"Hello World\"\n",
    "print(a)\n",
    "print(type(a))"
   ]
  },
  {
   "cell_type": "code",
   "execution_count": 3,
   "metadata": {},
   "outputs": [
    {
     "name": "stdout",
     "output_type": "stream",
     "text": [
      "Hello World\n"
     ]
    }
   ],
   "source": [
    "a = \"Hello \"\n",
    "b = \"World\"\n",
    "c = a+b\n",
    "print(c)"
   ]
  },
  {
   "cell_type": "code",
   "execution_count": 5,
   "metadata": {},
   "outputs": [
    {
     "name": "stdout",
     "output_type": "stream",
     "text": [
      "Hello World\n",
      "Hello World\n",
      "\n"
     ]
    }
   ],
   "source": [
    "a = \"Hello World\\n\"\n",
    "print(a*2)"
   ]
  },
  {
   "cell_type": "code",
   "execution_count": 6,
   "metadata": {},
   "outputs": [
    {
     "name": "stdout",
     "output_type": "stream",
     "text": [
      "Enter a = 10\n",
      "<class 'str'>\n"
     ]
    }
   ],
   "source": [
    "a = input(\"Enter a = \")\n",
    "print(type(a))"
   ]
  },
  {
   "cell_type": "code",
   "execution_count": 7,
   "metadata": {},
   "outputs": [
    {
     "name": "stdout",
     "output_type": "stream",
     "text": [
      "H\n"
     ]
    }
   ],
   "source": [
    "a = \"Hello World I am Python\"\n",
    "print(a[0])"
   ]
  },
  {
   "cell_type": "code",
   "execution_count": 11,
   "metadata": {},
   "outputs": [
    {
     "name": "stdout",
     "output_type": "stream",
     "text": [
      "Hello\n",
      " World I am Python\n"
     ]
    }
   ],
   "source": [
    "a = \"Hello World I am Python\"\n",
    "b = a[:5]\n",
    "c = a[5:]\n",
    "print(b)\n",
    "print(c)"
   ]
  },
  {
   "cell_type": "code",
   "execution_count": 12,
   "metadata": {},
   "outputs": [
    {
     "data": {
      "text/plain": [
       "'HloWr'"
      ]
     },
     "execution_count": 12,
     "metadata": {},
     "output_type": "execute_result"
    }
   ],
   "source": [
    "a = \"Hello World I am Python\"\n",
    "a[0:10:2]"
   ]
  },
  {
   "cell_type": "code",
   "execution_count": 13,
   "metadata": {},
   "outputs": [
    {
     "data": {
      "text/plain": [
       "'nohtyP ma I dlroW olleH'"
      ]
     },
     "execution_count": 13,
     "metadata": {},
     "output_type": "execute_result"
    }
   ],
   "source": [
    "a = \"Hello World I am Python\"\n",
    "a[::-1]"
   ]
  },
  {
   "cell_type": "code",
   "execution_count": 16,
   "metadata": {},
   "outputs": [
    {
     "data": {
      "text/plain": [
       "'nohtyP ma I dlroW olleH'"
      ]
     },
     "execution_count": 16,
     "metadata": {},
     "output_type": "execute_result"
    }
   ],
   "source": [
    "a = \"Hello World I am Python\"\n",
    "a[-1::-1]"
   ]
  },
  {
   "cell_type": "code",
   "execution_count": 18,
   "metadata": {},
   "outputs": [
    {
     "data": {
      "text/plain": [
       "'Hello World I am Ram I am form Kathmandu I am 34'"
      ]
     },
     "execution_count": 18,
     "metadata": {},
     "output_type": "execute_result"
    }
   ],
   "source": [
    "name = \"Ram\"\n",
    "age = 34\n",
    "add = \"Kathmandu\"\n",
    "\n",
    "info = \"Hello World I am \"+name+\" I am form \"+add +\" I am \" +str(age)\n",
    "info"
   ]
  },
  {
   "cell_type": "code",
   "execution_count": 21,
   "metadata": {},
   "outputs": [
    {
     "name": "stdout",
     "output_type": "stream",
     "text": [
      "Hello World I am Ram. I am from Kathmandu. I am 34.\n"
     ]
    }
   ],
   "source": [
    "#string formating\n",
    "name = \"Ram\"\n",
    "age = 34\n",
    "add = \"Kathmandu\"\n",
    "\n",
    "info = f\"Hello World I am {name}. I am from {add}. I am {age}.\"\n",
    "print(info)"
   ]
  },
  {
   "cell_type": "code",
   "execution_count": 22,
   "metadata": {},
   "outputs": [
    {
     "name": "stdout",
     "output_type": "stream",
     "text": [
      "Enter n = 2\n",
      "Enter name = Coke\n",
      "Enter price = 100\n",
      "Enter quantity = 2\n",
      "Enter name = Momo\n",
      "Enter price = 150\n",
      "Enter quantity = 3\n",
      "Coke 100 2 200\n",
      "Momo 150 3 450\n",
      "\n"
     ]
    }
   ],
   "source": [
    "bill = str()\n",
    "n = int(input(\"Enter n = \"))\n",
    "for i in range(n):\n",
    "    name = input(\"Enter name = \")\n",
    "    price = int(input(\"Enter price = \"))\n",
    "    quantity = int(input(\"Enter quantity = \"))\n",
    "    total = price*quantity\n",
    "    info = f\"{name} {price} {quantity} {total}\\n\"\n",
    "    bill = bill + info\n",
    "    \n",
    "print(bill)\n",
    "    "
   ]
  },
  {
   "cell_type": "code",
   "execution_count": null,
   "metadata": {},
   "outputs": [],
   "source": []
  },
  {
   "cell_type": "raw",
   "metadata": {},
   "source": []
  },
  {
   "cell_type": "code",
   "execution_count": 31,
   "metadata": {},
   "outputs": [
    {
     "name": "stdout",
     "output_type": "stream",
     "text": [
      "Enter value for search = ram\n",
      "No\n"
     ]
    }
   ],
   "source": [
    "a = \"Ram Shyam Hari Sita Gita Nita Nabin Ramesh\"\n",
    "search = input(\"Enter value for search = \")\n",
    "\n",
    "if search in a:\n",
    "    print(\"Yes\")\n",
    "    print(a.count(search))\n",
    "else:\n",
    "    print(\"No\")"
   ]
  },
  {
   "cell_type": "code",
   "execution_count": 34,
   "metadata": {},
   "outputs": [
    {
     "data": {
      "text/plain": [
       "'ram shyam hari sita gita nita nabin ramesh'"
      ]
     },
     "execution_count": 34,
     "metadata": {},
     "output_type": "execute_result"
    }
   ],
   "source": [
    "a = \"Ram Shyam Hari Sita Gita Nita Nabin Ramesh\"\n",
    "a.lower()"
   ]
  },
  {
   "cell_type": "code",
   "execution_count": 35,
   "metadata": {},
   "outputs": [
    {
     "data": {
      "text/plain": [
       "'ram'"
      ]
     },
     "execution_count": 35,
     "metadata": {},
     "output_type": "execute_result"
    }
   ],
   "source": [
    "search = \"RaM\"\n",
    "search.lower()"
   ]
  },
  {
   "cell_type": "code",
   "execution_count": 36,
   "metadata": {},
   "outputs": [
    {
     "name": "stdout",
     "output_type": "stream",
     "text": [
      "Enter value for search = RaM\n",
      "Yes\n",
      "2\n"
     ]
    }
   ],
   "source": [
    "a = \"Ram Shyam Hari Sita Gita Nita Nabin Ramesh\".lower()\n",
    "search = input(\"Enter value for search = \").lower()\n",
    "\n",
    "if search in a:\n",
    "    print(\"Yes\")\n",
    "    print(a.count(search))\n",
    "else:\n",
    "    print(\"No\")"
   ]
  },
  {
   "cell_type": "code",
   "execution_count": 39,
   "metadata": {},
   "outputs": [
    {
     "data": {
      "text/plain": [
       "'ram shyam hari sita gita nita nabin ramesh'"
      ]
     },
     "execution_count": 39,
     "metadata": {},
     "output_type": "execute_result"
    }
   ],
   "source": [
    "a = \"Ram Shyam Hari Sita Gita Nita Nabin Ramesh\"\n",
    "a.lower()\n"
   ]
  },
  {
   "cell_type": "code",
   "execution_count": 43,
   "metadata": {},
   "outputs": [
    {
     "name": "stdout",
     "output_type": "stream",
     "text": [
      "Ram Shyam Hari Sita Gita Nita Nabin Ramesh\n"
     ]
    }
   ],
   "source": [
    "a = 'ram shyam hari sita gita nita nabin ramesh'\n",
    "a = a.title()\n",
    "print(a)"
   ]
  },
  {
   "cell_type": "code",
   "execution_count": 44,
   "metadata": {},
   "outputs": [
    {
     "name": "stdout",
     "output_type": "stream",
     "text": [
      "ram shyam hari sita gita nita nabin ramesh\n"
     ]
    }
   ],
   "source": [
    "a = \"Ram Shyam Hari Sita Gita Nita Nabin Ramesh\"\n",
    "a = a.lower()\n",
    "print(a)"
   ]
  },
  {
   "cell_type": "code",
   "execution_count": 47,
   "metadata": {},
   "outputs": [
    {
     "data": {
      "text/plain": [
       "'Rama Shyam Hari Sita Gita Nita Nabin Ramesh'"
      ]
     },
     "execution_count": 47,
     "metadata": {},
     "output_type": "execute_result"
    }
   ],
   "source": [
    "a = \"Ram Shyam Hari Sita Gita Nita Nabin Ramesh\"\n",
    "a.replace(\"Ram \",\"Rama \")"
   ]
  },
  {
   "cell_type": "code",
   "execution_count": 48,
   "metadata": {},
   "outputs": [
    {
     "data": {
      "text/plain": [
       "'Shyam Hari Sita Gita Nita Nabin Ramesh'"
      ]
     },
     "execution_count": 48,
     "metadata": {},
     "output_type": "execute_result"
    }
   ],
   "source": [
    "a = \"Ram Shyam Hari Sita Gita Nita Nabin Ramesh\"\n",
    "a.replace(\"Ram \",\"\")"
   ]
  },
  {
   "cell_type": "code",
   "execution_count": null,
   "metadata": {},
   "outputs": [],
   "source": []
  }
 ],
 "metadata": {
  "kernelspec": {
   "display_name": "Python 3 (ipykernel)",
   "language": "python",
   "name": "python3"
  },
  "language_info": {
   "codemirror_mode": {
    "name": "ipython",
    "version": 3
   },
   "file_extension": ".py",
   "mimetype": "text/x-python",
   "name": "python",
   "nbconvert_exporter": "python",
   "pygments_lexer": "ipython3",
   "version": "3.7.1"
  }
 },
 "nbformat": 4,
 "nbformat_minor": 2
}
