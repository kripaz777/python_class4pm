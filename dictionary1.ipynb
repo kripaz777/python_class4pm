{
 "cells": [
  {
   "cell_type": "code",
   "execution_count": 1,
   "metadata": {},
   "outputs": [],
   "source": [
    "# dict\n",
    "# -Indexed\n",
    "# -Ordered\n",
    "# -Duplicate and multiple value\n",
    "# -Mutable"
   ]
  },
  {
   "cell_type": "code",
   "execution_count": 2,
   "metadata": {},
   "outputs": [
    {
     "name": "stdout",
     "output_type": "stream",
     "text": [
      "<class 'dict'>\n"
     ]
    }
   ],
   "source": [
    "d = {}\n",
    "d = dict()\n",
    "print(type(d))"
   ]
  },
  {
   "cell_type": "code",
   "execution_count": 3,
   "metadata": {},
   "outputs": [],
   "source": [
    "# d = {<key>:<value>,<key>:<value>,....}\n"
   ]
  },
  {
   "cell_type": "code",
   "execution_count": 4,
   "metadata": {},
   "outputs": [
    {
     "data": {
      "text/plain": [
       "{'a': 'Apple', 'b': 'Ball', 'c': 'Cat'}"
      ]
     },
     "execution_count": 4,
     "metadata": {},
     "output_type": "execute_result"
    }
   ],
   "source": [
    "a = {\"a\":\"Apple\",\"b\":\"Ball\",\"c\":\"Cat\"}\n",
    "a"
   ]
  },
  {
   "cell_type": "code",
   "execution_count": 7,
   "metadata": {},
   "outputs": [
    {
     "name": "stdout",
     "output_type": "stream",
     "text": [
      "Apple\n",
      "Ball\n"
     ]
    }
   ],
   "source": [
    "print(a['a'])\n",
    "print(a['b'])"
   ]
  },
  {
   "cell_type": "code",
   "execution_count": 8,
   "metadata": {},
   "outputs": [
    {
     "data": {
      "text/plain": [
       "{'a': 'Apple', 'b': 'Ball', 'c': 'Cat', 'A': 'Apple'}"
      ]
     },
     "execution_count": 8,
     "metadata": {},
     "output_type": "execute_result"
    }
   ],
   "source": [
    "a = {\"a\":\"Apple\",\"b\":\"Ball\",\"c\":\"Cat\",\"A\":\"Apple\"}\n",
    "a"
   ]
  },
  {
   "cell_type": "code",
   "execution_count": 9,
   "metadata": {},
   "outputs": [
    {
     "data": {
      "text/plain": [
       "{'a': 'apple', 'b': 'Ball', 'c': 'Cat'}"
      ]
     },
     "execution_count": 9,
     "metadata": {},
     "output_type": "execute_result"
    }
   ],
   "source": [
    "a = {\"a\":\"Apple\",\"b\":\"Ball\",\"c\":\"Cat\",\"a\":\"apple\"}\n",
    "a"
   ]
  },
  {
   "cell_type": "code",
   "execution_count": 12,
   "metadata": {},
   "outputs": [
    {
     "data": {
      "text/plain": [
       "{'a': 'Apple', 'b': 'Ball', 'c': 'Cat'}"
      ]
     },
     "execution_count": 12,
     "metadata": {},
     "output_type": "execute_result"
    }
   ],
   "source": [
    "d = {}\n",
    "d[\"a\"] = \"Apple\"\n",
    "d[\"b\"] = \"Ball\"\n",
    "d[\"c\"] = \"Cat\"\n",
    "d"
   ]
  },
  {
   "cell_type": "code",
   "execution_count": 13,
   "metadata": {},
   "outputs": [
    {
     "data": {
      "text/plain": [
       "{'a': 'Ant', 'b': 'Ball', 'c': 'Cat'}"
      ]
     },
     "execution_count": 13,
     "metadata": {},
     "output_type": "execute_result"
    }
   ],
   "source": [
    "d = {}\n",
    "d[\"a\"] = \"Apple\"\n",
    "d[\"b\"] = \"Ball\"\n",
    "d[\"c\"] = \"Cat\"\n",
    "d[\"a\"] = \"Ant\"\n",
    "d"
   ]
  },
  {
   "cell_type": "code",
   "execution_count": 14,
   "metadata": {},
   "outputs": [
    {
     "name": "stdout",
     "output_type": "stream",
     "text": [
      "Enter n = 2\n",
      "Enter name = Ram\n",
      "Enter phone = 9808667654\n",
      "Enter name = Shyam\n",
      "Enter phone = 9808667643\n",
      "{'Ram': 9808667654, 'Shyam': 9808667643}\n"
     ]
    }
   ],
   "source": [
    "d = {}\n",
    "n = int(input(\"Enter n = \"))\n",
    "for i in range(n):\n",
    "    name = input(\"Enter name = \")\n",
    "    phone = int(input(\"Enter phone = \"))\n",
    "    d[name] = phone\n",
    "    \n",
    "print(d)"
   ]
  },
  {
   "cell_type": "code",
   "execution_count": 15,
   "metadata": {},
   "outputs": [
    {
     "data": {
      "text/plain": [
       "{'Ram': 9808667654, 'Shyam': 9808667643}"
      ]
     },
     "execution_count": 15,
     "metadata": {},
     "output_type": "execute_result"
    }
   ],
   "source": [
    "d = {}\n",
    "d[\"Ram\"] = 9808667654\n",
    "d[\"Shyam\"] = 9808667643\n",
    "d"
   ]
  },
  {
   "cell_type": "code",
   "execution_count": 16,
   "metadata": {},
   "outputs": [
    {
     "data": {
      "text/plain": [
       "{'Ram': 9808667654, 'Shyam': 9808667643, 'Hari': 9808998765}"
      ]
     },
     "execution_count": 16,
     "metadata": {},
     "output_type": "execute_result"
    }
   ],
   "source": [
    "a = {'Ram': 9808667654, 'Shyam': 9808667643}\n",
    "a['Hari'] = 9808998765\n",
    "a"
   ]
  },
  {
   "cell_type": "code",
   "execution_count": 17,
   "metadata": {},
   "outputs": [
    {
     "name": "stdout",
     "output_type": "stream",
     "text": [
      "Ram\n",
      "Shyam\n",
      "Hari\n"
     ]
    }
   ],
   "source": [
    "for i in a:\n",
    "    print(i)"
   ]
  },
  {
   "cell_type": "code",
   "execution_count": 18,
   "metadata": {},
   "outputs": [
    {
     "name": "stdout",
     "output_type": "stream",
     "text": [
      "9808667654\n",
      "9808667643\n",
      "9808998765\n"
     ]
    }
   ],
   "source": [
    "for i in a.values():\n",
    "    print(i)"
   ]
  },
  {
   "cell_type": "code",
   "execution_count": 20,
   "metadata": {},
   "outputs": [
    {
     "name": "stdout",
     "output_type": "stream",
     "text": [
      "('Ram', 9808667654)\n",
      "('Shyam', 9808667643)\n",
      "('Hari', 9808998765)\n"
     ]
    }
   ],
   "source": [
    "for i in a.items():\n",
    "    print(i)"
   ]
  },
  {
   "cell_type": "code",
   "execution_count": 21,
   "metadata": {},
   "outputs": [
    {
     "data": {
      "text/plain": [
       "[('Ram', 9808667654), ('Shyam', 9808667643), ('Hari', 9808998765)]"
      ]
     },
     "execution_count": 21,
     "metadata": {},
     "output_type": "execute_result"
    }
   ],
   "source": [
    "l = []\n",
    "for i in a.items():\n",
    "    l.append(i)\n",
    "    \n",
    "l"
   ]
  },
  {
   "cell_type": "code",
   "execution_count": 22,
   "metadata": {},
   "outputs": [
    {
     "data": {
      "text/plain": [
       "{'Ram': 9808667654, 'Shyam': 9808667643, 'Hari': 9808998765}"
      ]
     },
     "execution_count": 22,
     "metadata": {},
     "output_type": "execute_result"
    }
   ],
   "source": [
    "d = dict(l)\n",
    "d"
   ]
  },
  {
   "cell_type": "code",
   "execution_count": 23,
   "metadata": {},
   "outputs": [
    {
     "data": {
      "text/plain": [
       "{'Ram': 9808667654, 'Shyam': 9808667643, 'Hari': 9808998765}"
      ]
     },
     "execution_count": 23,
     "metadata": {},
     "output_type": "execute_result"
    }
   ],
   "source": [
    "a = (('Ram', 9808667654), ('Shyam', 9808667643), ('Hari', 9808998765))\n",
    "dict(a)"
   ]
  },
  {
   "cell_type": "code",
   "execution_count": 26,
   "metadata": {},
   "outputs": [
    {
     "data": {
      "text/plain": [
       "{'Ram': 9808667654, 'Shyam': 9808667643, 'Hari': 9808998765}"
      ]
     },
     "execution_count": 26,
     "metadata": {},
     "output_type": "execute_result"
    }
   ],
   "source": [
    "a = [['Ram', 9808667654], ['Shyam', 9808667643], ['Hari', 9808998765]]\n",
    "b = dict(a)\n",
    "b"
   ]
  },
  {
   "cell_type": "code",
   "execution_count": 29,
   "metadata": {},
   "outputs": [
    {
     "data": {
      "text/plain": [
       "{'Ram': 98000000, 'Shyam': 9808667643, 'Hari': 9808998765}"
      ]
     },
     "execution_count": 29,
     "metadata": {},
     "output_type": "execute_result"
    }
   ],
   "source": [
    "a = {'Ram': 9808667654, 'Shyam': 9808667643, 'Hari': 9808998765}\n",
    "a[\"Ram\"] = 98000000\n",
    "a"
   ]
  },
  {
   "cell_type": "code",
   "execution_count": 31,
   "metadata": {},
   "outputs": [
    {
     "name": "stdout",
     "output_type": "stream",
     "text": [
      "{'Shyam': 9808667643, 'Hari': 9808998765}\n"
     ]
    }
   ],
   "source": [
    "# del pop()\n",
    "a = {'Ram': 9808667654, 'Shyam': 9808667643, 'Hari': 9808998765}\n",
    "del a[\"Ram\"]\n",
    "print(a)"
   ]
  },
  {
   "cell_type": "code",
   "execution_count": 33,
   "metadata": {},
   "outputs": [
    {
     "name": "stdout",
     "output_type": "stream",
     "text": [
      "{'Ram': 9808667654, 'Hari': 9808998765}\n",
      "9808667643\n"
     ]
    }
   ],
   "source": [
    "a = {'Ram': 9808667654, 'Shyam': 9808667643, 'Hari': 9808998765}\n",
    "b = a.pop(\"Shyam\")\n",
    "print(a)\n",
    "print(b)"
   ]
  },
  {
   "cell_type": "code",
   "execution_count": 34,
   "metadata": {},
   "outputs": [
    {
     "name": "stdout",
     "output_type": "stream",
     "text": [
      "{'Ram': [9808667654, 9808667632], 'Shyam': [9808667643, 9856556543], 'Hari': [9808998765, 9867667654]}\n"
     ]
    }
   ],
   "source": [
    "# list inside dict\n",
    "a = {'Ram': [9808667654,9808667632], \n",
    "     'Shyam': [9808667643,9856556543], \n",
    "     'Hari': [9808998765,9867667654]}\n",
    "print(a)"
   ]
  },
  {
   "cell_type": "code",
   "execution_count": 36,
   "metadata": {},
   "outputs": [
    {
     "name": "stdout",
     "output_type": "stream",
     "text": [
      "Enter n = 2\n",
      "Enter name = Ram\n",
      "Enter phone = 9845778765\n",
      "Enter phone9808667654\n",
      "Enter name = Shyam\n",
      "Enter phone = 9845667654\n",
      "Enter phone9808334455\n",
      "{'Ram': [9845778765, 9808667654], 'Shyam': [9845667654, 9808334455]}\n"
     ]
    }
   ],
   "source": [
    "d = {}\n",
    "n = int(input(\"Enter n = \"))\n",
    "for i in range(n):\n",
    "    name = input(\"Enter name = \")\n",
    "    ntc_phone = int(input(\"Enter phone = \"))\n",
    "    ncell_phone = int(input(\"Enter phone\"))\n",
    "    d[name] = [ntc_phone,ncell_phone]\n",
    "    \n",
    "print(d)"
   ]
  },
  {
   "cell_type": "code",
   "execution_count": 38,
   "metadata": {},
   "outputs": [
    {
     "name": "stdout",
     "output_type": "stream",
     "text": [
      "{'Ram': [9845778765, 9808667654], 'Shyam': [9845667654, 9808334455], 'Hari': [9845445433, 9808556543]}\n"
     ]
    }
   ],
   "source": [
    "a = {'Ram': [9845778765, 9808667654], 'Shyam': [9845667654, 9808334455]}\n",
    "b = {'Hari':[9845445433,9808556543]}\n",
    "a.update(b)\n",
    "print(a)"
   ]
  },
  {
   "cell_type": "code",
   "execution_count": 46,
   "metadata": {},
   "outputs": [
    {
     "data": {
      "text/plain": [
       "{'Ram': [9845778765, 9808667654],\n",
       " 'Shyam': [9845667654, 9808334455],\n",
       " 'Hari': [9845665456, 9808556543]}"
      ]
     },
     "execution_count": 46,
     "metadata": {},
     "output_type": "execute_result"
    }
   ],
   "source": [
    "a = {'Ram': [9845778765, 9808667654], 'Shyam': [9845667654, 9808334455]}\n",
    "a['Hari'] = [9845665456,9808556543]\n",
    "a"
   ]
  },
  {
   "cell_type": "code",
   "execution_count": 49,
   "metadata": {},
   "outputs": [
    {
     "data": {
      "text/plain": [
       "9808667654"
      ]
     },
     "execution_count": 49,
     "metadata": {},
     "output_type": "execute_result"
    }
   ],
   "source": [
    "a['Ram'][1] = 9800000000"
   ]
  },
  {
   "cell_type": "code",
   "execution_count": 50,
   "metadata": {},
   "outputs": [
    {
     "data": {
      "text/plain": [
       "{'Ram': [9845778765],\n",
       " 'Shyam': [9845667654, 9808334455],\n",
       " 'Hari': [9845665456, 9808556543]}"
      ]
     },
     "execution_count": 50,
     "metadata": {},
     "output_type": "execute_result"
    }
   ],
   "source": [
    "del a['Ram'][1]\n",
    "a"
   ]
  },
  {
   "cell_type": "code",
   "execution_count": 1,
   "metadata": {},
   "outputs": [],
   "source": [
    "# WAP to create the give type\n",
    "# d = {\"Name\":[\"Ram\",\"Shyam\",\"Hari\"],\n",
    "#     \"Age\":[67,89,45],\n",
    "#     \"Address\":[\"Kathmandu\",\"Bhaktapur\",\"Lalitpur\"]}\n"
   ]
  },
  {
   "cell_type": "code",
   "execution_count": 2,
   "metadata": {},
   "outputs": [
    {
     "name": "stdout",
     "output_type": "stream",
     "text": [
      "Enter n = 2\n",
      "Enter name = Ram\n",
      "Enter age = 56\n",
      "Enter add = Kathmandu\n",
      "Enter name = Hari\n",
      "Enter age = 34\n",
      "Enter add = Kathmandu\n",
      "{'Name': ['Ram', 'Hari'], 'Age': [56, 34], 'Address': ['Kathmandu', 'Kathmandu']}\n"
     ]
    }
   ],
   "source": [
    "d = {\"Name\":[],\"Age\":[],\"Address\":[]}\n",
    "\n",
    "n = int(input(\"Enter n = \"))\n",
    "for i in range(n):\n",
    "    name = input(\"Enter name = \")\n",
    "    age = int(input(\"Enter age = \"))\n",
    "    add = input(\"Enter add = \")\n",
    "    \n",
    "    d['Name'].append(name)\n",
    "    d['Age'].append(age)\n",
    "    d['Address'].append(add)\n",
    "    \n",
    "print(d)"
   ]
  },
  {
   "cell_type": "code",
   "execution_count": null,
   "metadata": {},
   "outputs": [],
   "source": [
    "# # WAP to create following type\n",
    "# l = [{\"Name\":\"Ram\",\"Age\":45,\"Address\":\"Kathmandu\"},\n",
    "#     {\"Name\":\"Shyam\",\"Age\":55,\"Address\":\"Lalitpur\"},\n",
    "#     {\"Name\":\"Hari\",\"Age\":54,\"Address\":\"Bhaktapur\"}]\n",
    "\n",
    "\n",
    "# d = {1:{\"Name\":\"Ram\",\"Age\":45,\"Address\":\"Kathmandu\"},\n",
    "#     2:{\"Name\":\"Shyam\",\"Age\":55,\"Address\":\"Lalitpur\"},\n",
    "#     3:{\"Name\":\"Hari\",\"Age\":54,\"Address\":\"Bhaktapur\"}}"
   ]
  },
  {
   "cell_type": "code",
   "execution_count": null,
   "metadata": {},
   "outputs": [],
   "source": [
    "l = [{\"Name\":\"Ram\",\"Age\":45,\"Address\":\"Kathmandu\"},\n",
    "    {\"Name\":\"Shyam\",\"Age\":55,\"Address\":\"Lalitpur\"},\n",
    "    {\"Name\":\"Hari\",\"Age\":54,\"Address\":\"Bhaktapur\"}]"
   ]
  },
  {
   "cell_type": "code",
   "execution_count": 3,
   "metadata": {},
   "outputs": [
    {
     "name": "stdout",
     "output_type": "stream",
     "text": [
      "Enter n = 2\n",
      "Enter name = Ram\n",
      "Enter age = 34\n",
      "Enter add = Kathmandu\n",
      "Enter name = Shyam\n",
      "Enter age = 45\n",
      "Enter add = Bhaktapur\n",
      "[{'Name': 'Ram', 'Age': 34, 'Add': 'Kathmandu'}, {'Name': 'Shyam', 'Age': 45, 'Add': 'Bhaktapur'}]\n"
     ]
    }
   ],
   "source": [
    "l = []\n",
    "n = int(input(\"Enter n = \"))\n",
    "for i in range(n):\n",
    "    name = input(\"Enter name = \")\n",
    "    age = int(input(\"Enter age = \"))\n",
    "    add = input(\"Enter add = \")\n",
    "    data = {\"Name\":name,\"Age\":age,\"Add\":add}\n",
    "    l.append(data)\n",
    "    \n",
    "print(l)"
   ]
  },
  {
   "cell_type": "code",
   "execution_count": 6,
   "metadata": {},
   "outputs": [
    {
     "name": "stdout",
     "output_type": "stream",
     "text": [
      "{'Name': 'Ram', 'Age': 34, 'Add': 'Kathmandu'}\n",
      "{'Name': 'Shyam', 'Age': 45, 'Add': 'Bhaktapur'}\n"
     ]
    }
   ],
   "source": [
    "for i in l:\n",
    "    print(i)"
   ]
  },
  {
   "cell_type": "code",
   "execution_count": 7,
   "metadata": {},
   "outputs": [
    {
     "name": "stdout",
     "output_type": "stream",
     "text": [
      "dict_items([('Name', 'Ram'), ('Age', 34), ('Add', 'Kathmandu')])\n",
      "dict_items([('Name', 'Shyam'), ('Age', 45), ('Add', 'Bhaktapur')])\n"
     ]
    }
   ],
   "source": [
    "for i in l:\n",
    "    print(i.items())"
   ]
  },
  {
   "cell_type": "code",
   "execution_count": 11,
   "metadata": {},
   "outputs": [
    {
     "data": {
      "text/plain": [
       "[{'Name': 'Ramesh', 'Age': 34, 'Add': 'Kathmandu'},\n",
       " {'Name': 'Shyam', 'Age': 45, 'Add': 'Bhaktapur'}]"
      ]
     },
     "execution_count": 11,
     "metadata": {},
     "output_type": "execute_result"
    }
   ],
   "source": [
    "a = [{'Name': 'Ram', 'Age': 34, 'Add': 'Kathmandu'}, \n",
    "     {'Name': 'Shyam', 'Age': 45, 'Add': 'Bhaktapur'}]\n",
    "a[0]['Name'] = \"Ramesh\"\n",
    "a"
   ]
  },
  {
   "cell_type": "code",
   "execution_count": 12,
   "metadata": {},
   "outputs": [
    {
     "data": {
      "text/plain": [
       "[{'Name': 'Ram', 'Age': 34, 'Add': ['Kathmandu', 'Dhading']},\n",
       " {'Name': 'Shyam', 'Age': 45, 'Add': ['Kathmandu', 'Dang']}]"
      ]
     },
     "execution_count": 12,
     "metadata": {},
     "output_type": "execute_result"
    }
   ],
   "source": [
    "a = [{'Name': 'Ram', 'Age': 34, 'Add': 'Kathmandu'}, \n",
    "     {'Name': 'Shyam', 'Age': 45, 'Add': 'Bhaktapur'}]\n",
    "a[0][\"Add\"] = [\"Kathmandu\",\"Dhading\"]\n",
    "a[1][\"Add\"] = [\"Kathmandu\",\"Dang\"]\n",
    "a"
   ]
  },
  {
   "cell_type": "code",
   "execution_count": 13,
   "metadata": {},
   "outputs": [
    {
     "name": "stdout",
     "output_type": "stream",
     "text": [
      "Enter n = 2\n",
      "Enter name = Ram\n",
      "Enter age = 34\n",
      "Enter add = Kathmandu\n",
      "Enter name = Hari\n",
      "Enter age = 56\n",
      "Enter add = Bhaktapur\n",
      "{1: {'Name': 'Ram', 'Age': 34, 'Add': 'Kathmandu'}, 2: {'Name': 'Hari', 'Age': 56, 'Add': 'Bhaktapur'}}\n"
     ]
    }
   ],
   "source": [
    "l = {}\n",
    "n = int(input(\"Enter n = \"))\n",
    "for i in range(1,n+1):\n",
    "    name = input(\"Enter name = \")\n",
    "    age = int(input(\"Enter age = \"))\n",
    "    add = input(\"Enter add = \")\n",
    "    data = {\"Name\":name,\"Age\":age,\"Add\":add}\n",
    "    l[i] = data\n",
    "    \n",
    "print(l)"
   ]
  },
  {
   "cell_type": "code",
   "execution_count": 23,
   "metadata": {},
   "outputs": [],
   "source": [
    "a = {1: {'Name': 'Ram', 'Age': 34, 'Add': 'Kathmandu'}, \n",
    "     2: {'Name': 'Hari', 'Age': 56, 'Add': 'Bhaktapur'}}"
   ]
  },
  {
   "cell_type": "code",
   "execution_count": 25,
   "metadata": {},
   "outputs": [
    {
     "data": {
      "text/plain": [
       "{1: {'Name': 'Ram', 'Age': 34, 'Add': 'Kathmandu', 'Phone': 9808667654},\n",
       " 2: {'Name': 'Hari', 'Age': 56, 'Add': 'Bhaktapur', 'Phone': 9808667654}}"
      ]
     },
     "execution_count": 25,
     "metadata": {},
     "output_type": "execute_result"
    }
   ],
   "source": [
    "\n",
    "a[1]['Phone'] = 9808667654\n",
    "a"
   ]
  },
  {
   "cell_type": "code",
   "execution_count": 16,
   "metadata": {},
   "outputs": [
    {
     "data": {
      "text/plain": [
       "{1: {'Name': 'Ram', 'Age': 34, 'Add': 'Kathmandu', 'Phone': 9808667654},\n",
       " 2: {'Name': 'Hari', 'Age': 56, 'Add': 'Bhaktapur', 'Phone': 9808667654}}"
      ]
     },
     "execution_count": 16,
     "metadata": {},
     "output_type": "execute_result"
    }
   ],
   "source": [
    "l[2]['Phone'] = 9808667654\n",
    "l"
   ]
  },
  {
   "cell_type": "code",
   "execution_count": 26,
   "metadata": {},
   "outputs": [
    {
     "ename": "TypeError",
     "evalue": "unhashable type: 'dict'",
     "output_type": "error",
     "traceback": [
      "\u001b[1;31m---------------------------------------------------------------------------\u001b[0m",
      "\u001b[1;31mTypeError\u001b[0m                                 Traceback (most recent call last)",
      "\u001b[1;32m~\\AppData\\Local\\Temp/ipykernel_7824/3621213537.py\u001b[0m in \u001b[0;36m<module>\u001b[1;34m\u001b[0m\n\u001b[0;32m      1\u001b[0m a = {{'Name': 'Ram', 'Age': 34, 'Add': 'Kathmandu'}, \n\u001b[1;32m----> 2\u001b[1;33m      {'Name': 'Hari', 'Age': 56, 'Add': 'Bhaktapur'}}\n\u001b[0m\u001b[0;32m      3\u001b[0m \u001b[0ma\u001b[0m\u001b[1;33m\u001b[0m\u001b[1;33m\u001b[0m\u001b[0m\n",
      "\u001b[1;31mTypeError\u001b[0m: unhashable type: 'dict'"
     ]
    }
   ],
   "source": [
    "a = {1: {'Name': 'Ram', 'Age': 34, 'Add': 'Kathmandu'}, \n",
    "     2: {'Name': 'Hari', 'Age': 56, 'Add': 'Bhaktapur'}}"
   ]
  },
  {
   "cell_type": "code",
   "execution_count": null,
   "metadata": {},
   "outputs": [],
   "source": [
    "a = {1,2,3}"
   ]
  }
 ],
 "metadata": {
  "kernelspec": {
   "display_name": "Python 3 (ipykernel)",
   "language": "python",
   "name": "python3"
  },
  "language_info": {
   "codemirror_mode": {
    "name": "ipython",
    "version": 3
   },
   "file_extension": ".py",
   "mimetype": "text/x-python",
   "name": "python",
   "nbconvert_exporter": "python",
   "pygments_lexer": "ipython3",
   "version": "3.7.1"
  }
 },
 "nbformat": 4,
 "nbformat_minor": 2
}
